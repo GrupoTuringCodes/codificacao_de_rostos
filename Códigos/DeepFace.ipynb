{
 "cells": [
  {
   "cell_type": "code",
   "execution_count": 1,
   "metadata": {},
   "outputs": [
    {
     "name": "stderr",
     "output_type": "stream",
     "text": [
      "Using TensorFlow backend.\n"
     ]
    }
   ],
   "source": [
    "from deepface import DeepFace\n",
    "import cv2\n",
    "import numpy as np #para trabalhar com vetores\n",
    "import glob\n",
    "import os \n",
    "import shutil\n",
    "import pathlib\n",
    "import os\n",
    "import pandas as pd"
   ]
  },
  {
   "cell_type": "code",
   "execution_count": 2,
   "metadata": {},
   "outputs": [],
   "source": [
    "dic = {}\n",
    "dataset_path = '/home/fill/Documentos/Turing/VC/DeepFace/Turing_Faces'\n",
    "os.chdir(dataset_path)   #Aqui entramos no diretório do dataset\n",
    "class_folders = os.listdir('.') #Pegamos os strings referente aos diretórios referentes a cada classe\n",
    "for class_folder in class_folders: #Loop para varrer cada diretório\n",
    "    i = 1 #Variável auxiliar para nomear as imagens\n",
    "    os.chdir(class_folder) #Entramos no diretório de uma classe\n",
    "    images = os.listdir('.') #Pegamos os strings de cada arquivo de imagem\n",
    "    for image in images: #Loop para varrer as imagens\n",
    "        #os.rename(image, class_folder+'.{}'.format(i)+'.jpg') #Renomeamos cada imagem com o nome no formato que queremos\n",
    "        dic['{}.{}'.format(class_folder, i)] = dataset_path+'/'+class_folder+'/'+image\n",
    "        i = i+1 #Atualizamos a variável\n",
    "    os.chdir('..') #Após renomear todas as imagens em um diretório, saimos dele para ir ao próximo\n",
    "os.chdir('..')"
   ]
  },
  {
   "cell_type": "code",
   "execution_count": 4,
   "metadata": {},
   "outputs": [
    {
     "name": "stdout",
     "output_type": "stream",
     "text": [
      "Ensemble learning enabled\n"
     ]
    },
    {
     "name": "stderr",
     "output_type": "stream",
     "text": [
      "Loading Facebook DeepFace: 100%|██████████| 4/4 [00:15<00:00,  3.93s/it]\n",
      "Avaliando Hash: 100%|██████████| 29/29 [01:40<00:00,  3.46s/it]\n"
     ]
    }
   ],
   "source": [
    "df = DeepFace.save_hash(dic)"
   ]
  },
  {
   "cell_type": "code",
   "execution_count": 5,
   "metadata": {},
   "outputs": [
    {
     "name": "stderr",
     "output_type": "stream",
     "text": [
      "Avaliando cada pessoa em relação à todas as outras!: 100%|██████████| 29/29 [00:00<00:00, 1083.73it/s]\n"
     ]
    }
   ],
   "source": [
    "metrics_df = DeepFace.metrics_dataframe(df)"
   ]
  },
  {
   "cell_type": "code",
   "execution_count": 6,
   "metadata": {},
   "outputs": [],
   "source": [
    "metrics_df = metrics_df.drop('Euclidean with OpenFace', axis = 1)"
   ]
  },
  {
   "cell_type": "code",
   "execution_count": 7,
   "metadata": {},
   "outputs": [
    {
     "name": "stderr",
     "output_type": "stream",
     "text": [
      "Realizando o ensemble para cada par de indivíduos!: 100%|██████████| 841/841 [00:00<00:00, 1504.79it/s]\n"
     ]
    }
   ],
   "source": [
    "verif_df = DeepFace.ensemble_dataframe(metrics_df)"
   ]
  },
  {
   "cell_type": "code",
   "execution_count": 8,
   "metadata": {},
   "outputs": [
    {
     "data": {
      "text/html": [
       "<div>\n",
       "<style scoped>\n",
       "    .dataframe tbody tr th:only-of-type {\n",
       "        vertical-align: middle;\n",
       "    }\n",
       "\n",
       "    .dataframe tbody tr th {\n",
       "        vertical-align: top;\n",
       "    }\n",
       "\n",
       "    .dataframe thead th {\n",
       "        text-align: right;\n",
       "    }\n",
       "</style>\n",
       "<table border=\"1\" class=\"dataframe\">\n",
       "  <thead>\n",
       "    <tr style=\"text-align: right;\">\n",
       "      <th></th>\n",
       "      <th>Accuracy</th>\n",
       "      <th>Recall</th>\n",
       "      <th>Precision</th>\n",
       "      <th>F1</th>\n",
       "    </tr>\n",
       "  </thead>\n",
       "  <tbody>\n",
       "    <tr>\n",
       "      <th>Results:</th>\n",
       "      <td>0.978597</td>\n",
       "      <td>0.814433</td>\n",
       "      <td>1.0</td>\n",
       "      <td>0.897727</td>\n",
       "    </tr>\n",
       "  </tbody>\n",
       "</table>\n",
       "</div>"
      ],
      "text/plain": [
       "          Accuracy    Recall  Precision        F1\n",
       "Results:  0.978597  0.814433        1.0  0.897727"
      ]
     },
     "execution_count": 8,
     "metadata": {},
     "output_type": "execute_result"
    }
   ],
   "source": [
    "f1_df = DeepFace.f1_calculation(verif_df)\n",
    "f1_df"
   ]
  }
 ],
 "metadata": {
  "kernelspec": {
   "display_name": "Python 3",
   "language": "python",
   "name": "python3"
  },
  "language_info": {
   "codemirror_mode": {
    "name": "ipython",
    "version": 3
   },
   "file_extension": ".py",
   "mimetype": "text/x-python",
   "name": "python",
   "nbconvert_exporter": "python",
   "pygments_lexer": "ipython3",
   "version": "3.7.6"
  }
 },
 "nbformat": 4,
 "nbformat_minor": 4
}
