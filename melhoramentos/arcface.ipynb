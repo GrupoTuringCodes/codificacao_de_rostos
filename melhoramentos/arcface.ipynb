{
 "cells": [
  {
   "cell_type": "code",
   "execution_count": 1,
   "metadata": {
    "id": "9cx1DLhDvPi3"
   },
   "outputs": [],
   "source": [
    "import pandas as pd\n",
    "import cv2\n",
    "import numpy as np\n",
    "import matplotlib.pyplot as plt\n",
    "import os\n",
    "import time\n",
    "\n",
    "from tqdm import tqdm"
   ]
  },
  {
   "cell_type": "code",
   "execution_count": 2,
   "metadata": {
    "id": "zIvGejP_mln2"
   },
   "outputs": [],
   "source": [
    "from mtcnn import MTCNN\n",
    "detector_model = MTCNN()"
   ]
  },
  {
   "cell_type": "markdown",
   "metadata": {
    "id": "b2FuEe9am6Ab"
   },
   "source": [
    "# **ArcFace**\n",
    "\n",
    "## *Input*: Imagem BGR 112 x 112\n",
    "\n",
    "## *Output*: Vetor de 512 dimensões\n",
    "\n",
    "## *Arquitetura (backbone)*: ResNet101\n",
    "\n",
    "## *Função Custo*: Additive Angular Margin Loss\n",
    "\n",
    "### Deng, Jiankang, et al. \"ArcFace: Additive Angular Margin Loss for Deep Face Recognition.\" (2019)"
   ]
  },
  {
   "cell_type": "markdown",
   "metadata": {
    "id": "VHjME8j6i6GN"
   },
   "source": [
    "## **Additive Angular Margin Loss**:\n",
    "\n",
    "<img src=\"imagens/arcface_train.PNG\">"
   ]
  },
  {
   "cell_type": "markdown",
   "metadata": {
    "id": "rPCWrZzCpdJm"
   },
   "source": [
    "## **Softmax vs. ArcFace**\n",
    "\n",
    "<img src=\"imagens/arcface_softmax.PNG\">"
   ]
  },
  {
   "cell_type": "markdown",
   "metadata": {
    "id": "Fb9apBzPqfCr"
   },
   "source": [
    "## **ArcFace vs. outros modelos**\n",
    "\n",
    "<img src=\"imagens/arcface_results.PNG\">"
   ]
  },
  {
   "cell_type": "code",
   "execution_count": 3,
   "metadata": {
    "id": "tHcMfMGg4ID6"
   },
   "outputs": [],
   "source": [
    "import insightface\n",
    "arcface_model = insightface.model_zoo.get_model('arcface_r100_v1')\n",
    "arcface_model.prepare(ctx_id=-1)"
   ]
  },
  {
   "cell_type": "markdown",
   "metadata": {
    "id": "jYnMGiJExkmf"
   },
   "source": [
    "## **Função para a criação do dicionário de paths das imagens do dataset**"
   ]
  },
  {
   "cell_type": "code",
   "execution_count": 4,
   "metadata": {
    "id": "JhhaV4-dpI29"
   },
   "outputs": [],
   "source": [
    "def make_dict(dataset_path):\n",
    "\n",
    "    dic = {}\n",
    "    os.chdir(dataset_path)\n",
    "    class_folders = os.listdir('.')\n",
    "\n",
    "    for class_folder in class_folders:\n",
    "\n",
    "        os.chdir(class_folder)\n",
    "        images = os.listdir('.')\n",
    "\n",
    "        i = 1\n",
    "        for image in images:\n",
    "            if not os.path.isfile(class_folder + '{}'.format(i) + '.jpg'):\n",
    "                os.rename(image, class_folder + '{}'.format(i) + '.jpg')\n",
    "            i = i + 1\n",
    "\n",
    "        images = os.listdir('.')\n",
    "        \n",
    "        i = 1\n",
    "        for image in images:\n",
    "            dic['{}{}'.format(class_folder, i)] = os.path.join(dataset_path, class_folder, image)\n",
    "            i = i + 1\n",
    "\n",
    "        os.chdir('..')\n",
    "\n",
    "    os.chdir('..')\n",
    "\n",
    "    return dic"
   ]
  },
  {
   "cell_type": "code",
   "execution_count": 5,
   "metadata": {
    "id": "8OTpV7kmu6vf"
   },
   "outputs": [],
   "source": [
    "dic = make_dict('Turing_Faces')"
   ]
  },
  {
   "cell_type": "code",
   "execution_count": 6,
   "metadata": {
    "colab": {
     "base_uri": "https://localhost:8080/"
    },
    "id": "CiUrgiEAvKdy",
    "outputId": "2713f71b-beea-4258-83ea-550bbe7e9249"
   },
   "outputs": [
    {
     "data": {
      "text/plain": [
       "{'Alex_Koji1': 'Turing_Faces/Alex_Koji/Alex_Koji1.jpg',\n",
       " 'Ariel_Guerreiro1': 'Turing_Faces/Ariel_Guerreiro/Ariel_Guerreiro1.jpg',\n",
       " 'Ariel_Guerreiro2': 'Turing_Faces/Ariel_Guerreiro/Ariel_Guerreiro2.jpg',\n",
       " 'Camila_Fonseca1': 'Turing_Faces/Camila_Fonseca/Camila_Fonseca1.jpg',\n",
       " 'Camila_Fonseca2': 'Turing_Faces/Camila_Fonseca/Camila_Fonseca2.jpg',\n",
       " 'Eduardo_Eiras1': 'Turing_Faces/Eduardo_Eiras/Eduardo_Eiras1.jpg',\n",
       " 'Eduardo_Eiras2': 'Turing_Faces/Eduardo_Eiras/Eduardo_Eiras2.jpg',\n",
       " 'Eduardo_Eiras3': 'Turing_Faces/Eduardo_Eiras/Eduardo_Eiras3.jpg',\n",
       " 'Eduardo_Eiras4': 'Turing_Faces/Eduardo_Eiras/Eduardo_Eiras4.jpg',\n",
       " 'Eduardo_Eiras5': 'Turing_Faces/Eduardo_Eiras/Eduardo_Eiras5.jpg',\n",
       " 'Enzo_Bustos1': 'Turing_Faces/Enzo_Bustos/Enzo_Bustos1.jpg',\n",
       " 'Enzo_Bustos2': 'Turing_Faces/Enzo_Bustos/Enzo_Bustos2.jpg',\n",
       " 'Felipe_Azank1': 'Turing_Faces/Felipe_Azank/Felipe_Azank1.jpg',\n",
       " 'Felipe_Azank2': 'Turing_Faces/Felipe_Azank/Felipe_Azank2.jpg',\n",
       " 'Felipe_Azank3': 'Turing_Faces/Felipe_Azank/Felipe_Azank3.jpg',\n",
       " 'Guilherme_Cola1': 'Turing_Faces/Guilherme_Cola/Guilherme_Cola1.jpg',\n",
       " 'Guilherme_Cola2': 'Turing_Faces/Guilherme_Cola/Guilherme_Cola2.jpg',\n",
       " 'Guilherme_Goncalves1': 'Turing_Faces/Guilherme_Goncalves/Guilherme_Goncalves1.jpg',\n",
       " 'Guilherme_Goncalves2': 'Turing_Faces/Guilherme_Goncalves/Guilherme_Goncalves2.jpg',\n",
       " 'Leonardo_Murakami1': 'Turing_Faces/Leonardo_Murakami/Leonardo_Murakami1.jpg',\n",
       " 'Leonardo_Murakami2': 'Turing_Faces/Leonardo_Murakami/Leonardo_Murakami2.jpg',\n",
       " 'Luisa_Heise1': 'Turing_Faces/Luisa_Heise/Luisa_Heise1.jpg',\n",
       " 'Luisa_Heise2': 'Turing_Faces/Luisa_Heise/Luisa_Heise2.jpg',\n",
       " 'Nelson_Alves1': 'Turing_Faces/Nelson_Alves/Nelson_Alves1.jpg',\n",
       " 'Nelson_Alves2': 'Turing_Faces/Nelson_Alves/Nelson_Alves2.jpg',\n",
       " 'Noel_Viscome1': 'Turing_Faces/Noel_Viscome/Noel_Viscome1.jpg',\n",
       " 'Noel_Viscome2': 'Turing_Faces/Noel_Viscome/Noel_Viscome2.jpg',\n",
       " 'Paulo_Sestini1': 'Turing_Faces/Paulo_Sestini/Paulo_Sestini1.jpg',\n",
       " 'Paulo_Sestini2': 'Turing_Faces/Paulo_Sestini/Paulo_Sestini2.jpg',\n",
       " 'Rodrigo_Fill1': 'Turing_Faces/Rodrigo_Fill/Rodrigo_Fill1.jpg',\n",
       " 'Rodrigo_Fill2': 'Turing_Faces/Rodrigo_Fill/Rodrigo_Fill2.jpg',\n",
       " 'Victor_Jinsi1': 'Turing_Faces/Victor_Jinsi/Victor_Jinsi1.jpg'}"
      ]
     },
     "execution_count": 6,
     "metadata": {},
     "output_type": "execute_result"
    }
   ],
   "source": [
    "dic"
   ]
  },
  {
   "cell_type": "markdown",
   "metadata": {
    "id": "o_iLa2X44jqt"
   },
   "source": [
    "## **Alinhamento facial realizado pela função da biblioteca do ArcFace**"
   ]
  },
  {
   "cell_type": "markdown",
   "metadata": {
    "id": "9ZX2XSX3xJhM"
   },
   "source": [
    "### Exemplo de imagem retirada do dataset do Turing"
   ]
  },
  {
   "cell_type": "code",
   "execution_count": 7,
   "metadata": {
    "colab": {
     "base_uri": "https://localhost:8080/",
     "height": 269
    },
    "id": "Kqj80Vcq488f",
    "outputId": "e7af65ea-69ca-4266-da81-14f93490da7f"
   },
   "outputs": [
    {
     "data": {
      "image/png": "[encoded data removed]",
      "text/plain": [
       "<Figure size 432x288 with 1 Axes>"
      ]
     },
     "metadata": {
      "needs_background": "light"
     },
     "output_type": "display_data"
    }
   ],
   "source": [
    "img_path = dic['Ariel_Guerreiro1']\n",
    "image = cv2.imread(img_path)\n",
    "\n",
    "plt.imshow(np.flip(image, axis=-1))\n",
    "plt.show()"
   ]
  },
  {
   "cell_type": "markdown",
   "metadata": {
    "id": "0s_JmKQHxQzn"
   },
   "source": [
    "### Imagem alinhada a partir da função da biblioteca do ArcFace"
   ]
  },
  {
   "cell_type": "code",
   "execution_count": 8,
   "metadata": {
    "colab": {
     "base_uri": "https://localhost:8080/",
     "height": 268
    },
    "id": "wdruCwmVwkI9",
    "outputId": "acd9c93e-e3ae-43ce-9bb8-258bba7145ae"
   },
   "outputs": [
    {
     "data": {
      "image/png": "[encoded data removed]",
      "text/plain": [
       "<Figure size 432x288 with 1 Axes>"
      ]
     },
     "metadata": {
      "needs_background": "light"
     },
     "output_type": "display_data"
    }
   ],
   "source": [
    "image_rgb = cv2.cvtColor(image, cv2.COLOR_BGR2RGB); result = detector_model.detect_faces(image_rgb)\n",
    "eye_right = np.array(result[0]['keypoints']['right_eye'])\n",
    "eye_left = np.array(result[0]['keypoints']['left_eye'])\n",
    "nose = np.array(result[0]['keypoints']['nose'])\n",
    "mouth_right = np.array(result[0]['keypoints']['mouth_right'])\n",
    "mouth_left = np.array(result[0]['keypoints']['mouth_left'])\n",
    "landmarks = np.array([eye_left, eye_right, nose, mouth_left, mouth_right])\n",
    "\n",
    "aligned_img = insightface.utils.face_align.norm_crop(image, landmarks)\n",
    "\n",
    "plt.imshow(np.flip(aligned_img, axis=-1))\n",
    "plt.show()"
   ]
  },
  {
   "cell_type": "markdown",
   "metadata": {
    "id": "9rbkNk-ByJzn"
   },
   "source": [
    "## **Função para gerar a representação ArcFace de uma imagem**"
   ]
  },
  {
   "cell_type": "code",
   "execution_count": 9,
   "metadata": {
    "id": "7Qg1cA-dvfUS"
   },
   "outputs": [],
   "source": [
    "def get_representation(image, hash_model, landmarks):\n",
    "\n",
    "    aligned_img = insightface.utils.face_align.norm_crop(image, landmarks)\n",
    "\n",
    "    img_representation = hash_model.get_embedding(aligned_img)\n",
    "    img_representation = img_representation.squeeze(axis=0)\n",
    "\n",
    "    #plt.imshow(aligned_img)\n",
    "    #plt.show()\n",
    "\n",
    "    return img_representation"
   ]
  },
  {
   "cell_type": "markdown",
   "metadata": {
    "id": "aCuY8VeKyjYf"
   },
   "source": [
    "## **Função para gerar o DataFrame de representações**"
   ]
  },
  {
   "cell_type": "code",
   "execution_count": 10,
   "metadata": {
    "id": "uF_szKA-pwHF"
   },
   "outputs": [],
   "source": [
    "def make_hash(img_dict, hash_model, detector_model):\n",
    "\n",
    "    img_list = list(img_dict.values())\n",
    "\n",
    "    df = pd.DataFrame(columns = ['ArcFace'], index = list(img_dict.keys()))\n",
    "\n",
    "    representation_list = []\n",
    "    disable_option = False if len(img_list) > 1 else True\n",
    "    for img_path in tqdm(img_list, desc='Avaliando Hash...', disable = disable_option):\n",
    "\n",
    "        image = cv2.imread(img_path)\n",
    "        image_rgb = cv2.cvtColor(image, cv2.COLOR_BGR2RGB)\n",
    "        result = detector_model.detect_faces(image_rgb)\n",
    "\n",
    "        # Nenhum rosto detectado\n",
    "        if len(result) == 0:\n",
    "            representation_list.append(None)\n",
    "\n",
    "        else:\n",
    "            eye_right = np.array(result[0]['keypoints']['right_eye'])\n",
    "            eye_left = np.array(result[0]['keypoints']['left_eye'])\n",
    "            nose = np.array(result[0]['keypoints']['nose'])\n",
    "            mouth_right = np.array(result[0]['keypoints']['mouth_right'])\n",
    "            mouth_left = np.array(result[0]['keypoints']['mouth_left'])\n",
    "\n",
    "            landmarks = np.array([eye_left, eye_right, nose, mouth_left, mouth_right])\n",
    "\n",
    "            representation = get_representation(image, hash_model, landmarks)\n",
    "            representation_list.append(representation)\n",
    "\n",
    "    df['ArcFace'] = representation_list\n",
    "\n",
    "    return df"
   ]
  },
  {
   "cell_type": "code",
   "execution_count": 11,
   "metadata": {
    "colab": {
     "base_uri": "https://localhost:8080/"
    },
    "id": "T6iuP6PFwENY",
    "outputId": "0f32e947-9588-4f03-bbb9-04adb0490ce5"
   },
   "outputs": [
    {
     "name": "stderr",
     "output_type": "stream",
     "text": [
      "Avaliando Hash...: 100%|██████████| 32/32 [00:48<00:00,  1.53s/it]\n"
     ]
    }
   ],
   "source": [
    "tic = time.time()\n",
    "hash_df = make_hash(dic, arcface_model, detector_model)\n",
    "toc = time.time()"
   ]
  },
  {
   "cell_type": "code",
   "execution_count": 12,
   "metadata": {
    "colab": {
     "base_uri": "https://localhost:8080/"
    },
    "id": "oeksUID-EtEM",
    "outputId": "d199157c-0897-4478-e1b8-fcd335a3e53a"
   },
   "outputs": [
    {
     "name": "stdout",
     "output_type": "stream",
     "text": [
      "Tempo de avaliação do hash: 48.910807609558105 segundos\n"
     ]
    }
   ],
   "source": [
    "print('Tempo de avaliação do hash: {} segundos'.format(toc-tic))"
   ]
  },
  {
   "cell_type": "code",
   "execution_count": 13,
   "metadata": {
    "colab": {
     "base_uri": "https://localhost:8080/",
     "height": 1000
    },
    "id": "du_2Rx9WCpTn",
    "outputId": "fdfd8522-37e2-4384-eed3-bcd3d150af95"
   },
   "outputs": [
    {
     "data": {
      "text/html": [
       "<div>\n",
       "<style scoped>\n",
       "    .dataframe tbody tr th:only-of-type {\n",
       "        vertical-align: middle;\n",
       "    }\n",
       "\n",
       "    .dataframe tbody tr th {\n",
       "        vertical-align: top;\n",
       "    }\n",
       "\n",
       "    .dataframe thead th {\n",
       "        text-align: right;\n",
       "    }\n",
       "</style>\n",
       "<table border=\"1\" class=\"dataframe\">\n",
       "  <thead>\n",
       "    <tr style=\"text-align: right;\">\n",
       "      <th></th>\n",
       "      <th>ArcFace</th>\n",
       "    </tr>\n",
       "  </thead>\n",
       "  <tbody>\n",
       "    <tr>\n",
       "      <th>Alex_Koji1</th>\n",
       "      <td>[-0.07898863, 0.29689148, -2.5531418, -1.08932...</td>\n",
       "    </tr>\n",
       "    <tr>\n",
       "      <th>Ariel_Guerreiro1</th>\n",
       "      <td>[0.32658285, -0.7017476, -0.64553106, -0.57638...</td>\n",
       "    </tr>\n",
       "    <tr>\n",
       "      <th>Ariel_Guerreiro2</th>\n",
       "      <td>[0.5509473, -0.9909145, -0.34865752, -0.563928...</td>\n",
       "    </tr>\n",
       "    <tr>\n",
       "      <th>Camila_Fonseca1</th>\n",
       "      <td>[-1.5818309, -1.160022, 1.65914, 0.49970958, 2...</td>\n",
       "    </tr>\n",
       "    <tr>\n",
       "      <th>Camila_Fonseca2</th>\n",
       "      <td>[-2.0179617, 0.070794165, 2.3806381, -0.884002...</td>\n",
       "    </tr>\n",
       "    <tr>\n",
       "      <th>Eduardo_Eiras1</th>\n",
       "      <td>[-0.03154268, -1.23299, -0.6005332, 0.20772809...</td>\n",
       "    </tr>\n",
       "    <tr>\n",
       "      <th>Eduardo_Eiras2</th>\n",
       "      <td>[0.4015549, -1.7482035, -0.32626057, 0.1923889...</td>\n",
       "    </tr>\n",
       "    <tr>\n",
       "      <th>Eduardo_Eiras3</th>\n",
       "      <td>[0.09118195, -1.7747225, -0.42174166, 1.536756...</td>\n",
       "    </tr>\n",
       "    <tr>\n",
       "      <th>Eduardo_Eiras4</th>\n",
       "      <td>[-0.63092244, -1.3873752, -0.76119167, -0.2832...</td>\n",
       "    </tr>\n",
       "    <tr>\n",
       "      <th>Eduardo_Eiras5</th>\n",
       "      <td>[-0.090289675, -1.9531868, -0.14185497, 0.9069...</td>\n",
       "    </tr>\n",
       "    <tr>\n",
       "      <th>Enzo_Bustos1</th>\n",
       "      <td>[2.354969, -1.078496, 0.3044402, 0.52788395, -...</td>\n",
       "    </tr>\n",
       "    <tr>\n",
       "      <th>Enzo_Bustos2</th>\n",
       "      <td>[2.1111567, -1.8650384, 0.7342539, 0.67514086,...</td>\n",
       "    </tr>\n",
       "    <tr>\n",
       "      <th>Felipe_Azank1</th>\n",
       "      <td>[-0.13501208, -0.2091739, 0.065016195, 0.05344...</td>\n",
       "    </tr>\n",
       "    <tr>\n",
       "      <th>Felipe_Azank2</th>\n",
       "      <td>[-1.906696, -0.46989766, 1.4539726, 0.9117646,...</td>\n",
       "    </tr>\n",
       "    <tr>\n",
       "      <th>Felipe_Azank3</th>\n",
       "      <td>[-0.29147577, 0.0067214365, -0.23681025, 0.607...</td>\n",
       "    </tr>\n",
       "    <tr>\n",
       "      <th>Guilherme_Cola1</th>\n",
       "      <td>[0.34685284, 1.7327063, 0.8026821, -0.7148924,...</td>\n",
       "    </tr>\n",
       "    <tr>\n",
       "      <th>Guilherme_Cola2</th>\n",
       "      <td>[0.32865295, 1.7381437, 0.88204324, -0.9290769...</td>\n",
       "    </tr>\n",
       "    <tr>\n",
       "      <th>Guilherme_Goncalves1</th>\n",
       "      <td>[0.52387184, -0.94092226, -1.21179, -1.2721274...</td>\n",
       "    </tr>\n",
       "    <tr>\n",
       "      <th>Guilherme_Goncalves2</th>\n",
       "      <td>[0.53069353, -1.0352924, -1.294146, -1.0679712...</td>\n",
       "    </tr>\n",
       "    <tr>\n",
       "      <th>Leonardo_Murakami1</th>\n",
       "      <td>[0.73463917, 1.1595278, 1.0404944, -1.2955294,...</td>\n",
       "    </tr>\n",
       "    <tr>\n",
       "      <th>Leonardo_Murakami2</th>\n",
       "      <td>[0.38758636, 1.2051771, 1.749144, -1.51255, 0....</td>\n",
       "    </tr>\n",
       "    <tr>\n",
       "      <th>Luisa_Heise1</th>\n",
       "      <td>[-2.3193252, 0.0348225, 1.0841111, -0.36340025...</td>\n",
       "    </tr>\n",
       "    <tr>\n",
       "      <th>Luisa_Heise2</th>\n",
       "      <td>[-2.7051022, 0.6909716, 0.52857184, -0.5477361...</td>\n",
       "    </tr>\n",
       "    <tr>\n",
       "      <th>Nelson_Alves1</th>\n",
       "      <td>[1.1043621, -1.2650893, -0.20539719, 0.3436208...</td>\n",
       "    </tr>\n",
       "    <tr>\n",
       "      <th>Nelson_Alves2</th>\n",
       "      <td>[2.3778439, -0.79053754, 0.13994648, 0.2409673...</td>\n",
       "    </tr>\n",
       "    <tr>\n",
       "      <th>Noel_Viscome1</th>\n",
       "      <td>[-0.42517552, -0.9682195, -0.461269, 0.9338636...</td>\n",
       "    </tr>\n",
       "    <tr>\n",
       "      <th>Noel_Viscome2</th>\n",
       "      <td>[-0.118206896, 0.341418, 0.0806931, 1.0353438,...</td>\n",
       "    </tr>\n",
       "    <tr>\n",
       "      <th>Paulo_Sestini1</th>\n",
       "      <td>[-0.1958941, 0.6923602, -1.0924293, 1.1241529,...</td>\n",
       "    </tr>\n",
       "    <tr>\n",
       "      <th>Paulo_Sestini2</th>\n",
       "      <td>[-0.3264162, 0.5314112, -0.79950345, 0.5179381...</td>\n",
       "    </tr>\n",
       "    <tr>\n",
       "      <th>Rodrigo_Fill1</th>\n",
       "      <td>[0.8001178, 0.7996407, -1.8579195, 0.81695694,...</td>\n",
       "    </tr>\n",
       "    <tr>\n",
       "      <th>Rodrigo_Fill2</th>\n",
       "      <td>[0.2553075, -0.6583039, -0.5183702, 0.6791352,...</td>\n",
       "    </tr>\n",
       "    <tr>\n",
       "      <th>Victor_Jinsi1</th>\n",
       "      <td>[0.5661467, -1.0004205, 0.7828165, 1.0176481, ...</td>\n",
       "    </tr>\n",
       "  </tbody>\n",
       "</table>\n",
       "</div>"
      ],
      "text/plain": [
       "                                                                ArcFace\n",
       "Alex_Koji1            [-0.07898863, 0.29689148, -2.5531418, -1.08932...\n",
       "Ariel_Guerreiro1      [0.32658285, -0.7017476, -0.64553106, -0.57638...\n",
       "Ariel_Guerreiro2      [0.5509473, -0.9909145, -0.34865752, -0.563928...\n",
       "Camila_Fonseca1       [-1.5818309, -1.160022, 1.65914, 0.49970958, 2...\n",
       "Camila_Fonseca2       [-2.0179617, 0.070794165, 2.3806381, -0.884002...\n",
       "Eduardo_Eiras1        [-0.03154268, -1.23299, -0.6005332, 0.20772809...\n",
       "Eduardo_Eiras2        [0.4015549, -1.7482035, -0.32626057, 0.1923889...\n",
       "Eduardo_Eiras3        [0.09118195, -1.7747225, -0.42174166, 1.536756...\n",
       "Eduardo_Eiras4        [-0.63092244, -1.3873752, -0.76119167, -0.2832...\n",
       "Eduardo_Eiras5        [-0.090289675, -1.9531868, -0.14185497, 0.9069...\n",
       "Enzo_Bustos1          [2.354969, -1.078496, 0.3044402, 0.52788395, -...\n",
       "Enzo_Bustos2          [2.1111567, -1.8650384, 0.7342539, 0.67514086,...\n",
       "Felipe_Azank1         [-0.13501208, -0.2091739, 0.065016195, 0.05344...\n",
       "Felipe_Azank2         [-1.906696, -0.46989766, 1.4539726, 0.9117646,...\n",
       "Felipe_Azank3         [-0.29147577, 0.0067214365, -0.23681025, 0.607...\n",
       "Guilherme_Cola1       [0.34685284, 1.7327063, 0.8026821, -0.7148924,...\n",
       "Guilherme_Cola2       [0.32865295, 1.7381437, 0.88204324, -0.9290769...\n",
       "Guilherme_Goncalves1  [0.52387184, -0.94092226, -1.21179, -1.2721274...\n",
       "Guilherme_Goncalves2  [0.53069353, -1.0352924, -1.294146, -1.0679712...\n",
       "Leonardo_Murakami1    [0.73463917, 1.1595278, 1.0404944, -1.2955294,...\n",
       "Leonardo_Murakami2    [0.38758636, 1.2051771, 1.749144, -1.51255, 0....\n",
       "Luisa_Heise1          [-2.3193252, 0.0348225, 1.0841111, -0.36340025...\n",
       "Luisa_Heise2          [-2.7051022, 0.6909716, 0.52857184, -0.5477361...\n",
       "Nelson_Alves1         [1.1043621, -1.2650893, -0.20539719, 0.3436208...\n",
       "Nelson_Alves2         [2.3778439, -0.79053754, 0.13994648, 0.2409673...\n",
       "Noel_Viscome1         [-0.42517552, -0.9682195, -0.461269, 0.9338636...\n",
       "Noel_Viscome2         [-0.118206896, 0.341418, 0.0806931, 1.0353438,...\n",
       "Paulo_Sestini1        [-0.1958941, 0.6923602, -1.0924293, 1.1241529,...\n",
       "Paulo_Sestini2        [-0.3264162, 0.5314112, -0.79950345, 0.5179381...\n",
       "Rodrigo_Fill1         [0.8001178, 0.7996407, -1.8579195, 0.81695694,...\n",
       "Rodrigo_Fill2         [0.2553075, -0.6583039, -0.5183702, 0.6791352,...\n",
       "Victor_Jinsi1         [0.5661467, -1.0004205, 0.7828165, 1.0176481, ..."
      ]
     },
     "execution_count": 13,
     "metadata": {},
     "output_type": "execute_result"
    }
   ],
   "source": [
    "hash_df"
   ]
  },
  {
   "cell_type": "code",
   "execution_count": 14,
   "metadata": {
    "id": "55EzQ9ifCo41"
   },
   "outputs": [],
   "source": [
    "hash_df.to_pickle('arcface_files/hash_df.pkl', protocol=4)"
   ]
  },
  {
   "cell_type": "markdown",
   "metadata": {
    "id": "lPMKgZZ5CvE5"
   },
   "source": [
    "import pandas as pd\n",
    "hash_df = pd.read_pickle('arcface_files/hash_df.pkl')"
   ]
  },
  {
   "cell_type": "markdown",
   "metadata": {
    "id": "7fDTBfEeytsN"
   },
   "source": [
    "## **Função para determinar a similaridade cossenoidal entre dois vetores**"
   ]
  },
  {
   "cell_type": "code",
   "execution_count": 15,
   "metadata": {
    "id": "1rqs6pqXzwEV"
   },
   "outputs": [],
   "source": [
    "def find_cosine_similarity(source_representation, test_representation):\n",
    "\n",
    "    a = np.dot(source_representation, test_representation)\n",
    "    b = np.linalg.norm(source_representation)\n",
    "    c = np.linalg.norm(test_representation)\n",
    "\n",
    "    return 1 - a/(b*c)"
   ]
  },
  {
   "cell_type": "markdown",
   "metadata": {
    "id": "AGrAcsLJy-6B"
   },
   "source": [
    "## **Função para gerar o DataFrame de similaridades cossenoidais**"
   ]
  },
  {
   "cell_type": "code",
   "execution_count": 16,
   "metadata": {
    "id": "6X-e_wKcycKr"
   },
   "outputs": [],
   "source": [
    "def make_metrics_dataframe(hash_df, one_compair=False):\n",
    "\n",
    "    hash_index = list(hash_df.index)\n",
    "\n",
    "    column_names = ['CosineSimilarity']\n",
    "    index_names = []\n",
    "    aux = hash_index.copy()\n",
    "    for i in hash_index:\n",
    "        aux.pop(0)\n",
    "        for j in aux:\n",
    "            index_names.append(i + ' - ' + j)\n",
    "\n",
    "    metrics_df = pd.DataFrame(columns=column_names, index=index_names)\n",
    "\n",
    "    if one_compair:\n",
    "  \n",
    "        first_index = hash_index[0]\n",
    "        for index in tqdm(hash_index[1:], desc = 'Avaliando a primeira pessoa em relação a todas as outras...'):\n",
    "\n",
    "            cosine_distance = find_cosine_similarity(hash_df.at[first_index, 'ArcFace'], hash_df.at[index, 'ArcFace'])\n",
    "\n",
    "            string = first_index + ' - ' + index\n",
    "            metrics_df.at[string, 'CosineSimilarity'] = cosine_distance\n",
    "\n",
    "    else:\n",
    "\n",
    "        people_pbar = tqdm(range(len(hash_index)), desc = 'Avaliando cada pessoa em relação a todas as outras...')\n",
    "        for i in people_pbar:\n",
    "\t\t\t\n",
    "            index = hash_index[i]\n",
    "            for j in range(i+1, len(hash_index)):\n",
    "\n",
    "                jndex = hash_index[j]\n",
    "                cosine_distance = find_cosine_similarity(hash_df.at[index, 'ArcFace'], hash_df.at[jndex, 'ArcFace'])\n",
    "\n",
    "                string = index + ' - ' + jndex\n",
    "                metrics_df.loc[string] = cosine_distance\n",
    "\n",
    "    metrics_df.dropna(inplace = True)\n",
    "\n",
    "    return metrics_df"
   ]
  },
  {
   "cell_type": "code",
   "execution_count": 17,
   "metadata": {
    "colab": {
     "base_uri": "https://localhost:8080/"
    },
    "id": "TlELZ6Z22XTy",
    "outputId": "f59a5a13-42bf-4561-ad1c-5279754411d8"
   },
   "outputs": [
    {
     "name": "stderr",
     "output_type": "stream",
     "text": [
      "Avaliando cada pessoa em relação a todas as outras...: 100%|██████████| 32/32 [00:00<00:00, 224.19it/s]\n"
     ]
    }
   ],
   "source": [
    "metrics_df = make_metrics_dataframe(hash_df, one_compair=False)"
   ]
  },
  {
   "cell_type": "code",
   "execution_count": 18,
   "metadata": {
    "colab": {
     "base_uri": "https://localhost:8080/",
     "height": 424
    },
    "id": "EZy3d4LD2584",
    "outputId": "697110dd-d97f-4a34-a310-885803dfb390"
   },
   "outputs": [
    {
     "data": {
      "text/html": [
       "<div>\n",
       "<style scoped>\n",
       "    .dataframe tbody tr th:only-of-type {\n",
       "        vertical-align: middle;\n",
       "    }\n",
       "\n",
       "    .dataframe tbody tr th {\n",
       "        vertical-align: top;\n",
       "    }\n",
       "\n",
       "    .dataframe thead th {\n",
       "        text-align: right;\n",
       "    }\n",
       "</style>\n",
       "<table border=\"1\" class=\"dataframe\">\n",
       "  <thead>\n",
       "    <tr style=\"text-align: right;\">\n",
       "      <th></th>\n",
       "      <th>CosineSimilarity</th>\n",
       "    </tr>\n",
       "  </thead>\n",
       "  <tbody>\n",
       "    <tr>\n",
       "      <th>Alex_Koji1 - Ariel_Guerreiro1</th>\n",
       "      <td>1.037276</td>\n",
       "    </tr>\n",
       "    <tr>\n",
       "      <th>Alex_Koji1 - Ariel_Guerreiro2</th>\n",
       "      <td>0.889063</td>\n",
       "    </tr>\n",
       "    <tr>\n",
       "      <th>Alex_Koji1 - Camila_Fonseca1</th>\n",
       "      <td>1.013353</td>\n",
       "    </tr>\n",
       "    <tr>\n",
       "      <th>Alex_Koji1 - Camila_Fonseca2</th>\n",
       "      <td>0.942209</td>\n",
       "    </tr>\n",
       "    <tr>\n",
       "      <th>Alex_Koji1 - Eduardo_Eiras1</th>\n",
       "      <td>0.994663</td>\n",
       "    </tr>\n",
       "    <tr>\n",
       "      <th>...</th>\n",
       "      <td>...</td>\n",
       "    </tr>\n",
       "    <tr>\n",
       "      <th>Paulo_Sestini2 - Rodrigo_Fill2</th>\n",
       "      <td>0.862796</td>\n",
       "    </tr>\n",
       "    <tr>\n",
       "      <th>Paulo_Sestini2 - Victor_Jinsi1</th>\n",
       "      <td>0.927915</td>\n",
       "    </tr>\n",
       "    <tr>\n",
       "      <th>Rodrigo_Fill1 - Rodrigo_Fill2</th>\n",
       "      <td>0.214137</td>\n",
       "    </tr>\n",
       "    <tr>\n",
       "      <th>Rodrigo_Fill1 - Victor_Jinsi1</th>\n",
       "      <td>1.007906</td>\n",
       "    </tr>\n",
       "    <tr>\n",
       "      <th>Rodrigo_Fill2 - Victor_Jinsi1</th>\n",
       "      <td>0.997028</td>\n",
       "    </tr>\n",
       "  </tbody>\n",
       "</table>\n",
       "<p>496 rows × 1 columns</p>\n",
       "</div>"
      ],
      "text/plain": [
       "                               CosineSimilarity\n",
       "Alex_Koji1 - Ariel_Guerreiro1          1.037276\n",
       "Alex_Koji1 - Ariel_Guerreiro2          0.889063\n",
       "Alex_Koji1 - Camila_Fonseca1           1.013353\n",
       "Alex_Koji1 - Camila_Fonseca2           0.942209\n",
       "Alex_Koji1 - Eduardo_Eiras1            0.994663\n",
       "...                                         ...\n",
       "Paulo_Sestini2 - Rodrigo_Fill2         0.862796\n",
       "Paulo_Sestini2 - Victor_Jinsi1         0.927915\n",
       "Rodrigo_Fill1 - Rodrigo_Fill2          0.214137\n",
       "Rodrigo_Fill1 - Victor_Jinsi1          1.007906\n",
       "Rodrigo_Fill2 - Victor_Jinsi1          0.997028\n",
       "\n",
       "[496 rows x 1 columns]"
      ]
     },
     "execution_count": 18,
     "metadata": {},
     "output_type": "execute_result"
    }
   ],
   "source": [
    "metrics_df"
   ]
  },
  {
   "cell_type": "code",
   "execution_count": 19,
   "metadata": {
    "id": "IdjcogLNDDAE"
   },
   "outputs": [],
   "source": [
    "metrics_df.to_pickle('arcface_files/metrics_df.pkl', protocol=4)"
   ]
  },
  {
   "cell_type": "markdown",
   "metadata": {
    "id": "6O4K8YeFDCyI"
   },
   "source": [
    "import pandas as pd\n",
    "metrics = pd.read_pickle('arcface_files/metrics_df.pkl')"
   ]
  },
  {
   "cell_type": "markdown",
   "metadata": {
    "id": "X-Ia38hKzJjE"
   },
   "source": [
    "## **Função para gerar o DataFrame de predições do modelo e resultados esperados**"
   ]
  },
  {
   "cell_type": "code",
   "execution_count": 20,
   "metadata": {
    "id": "iQHc0hLoj4gW"
   },
   "outputs": [],
   "source": [
    "def make_verification_dataframe(metrics_df, threshold=.65):\n",
    "\n",
    "    columns_names = ['Verified', 'GroundTruth']\n",
    "    verification_df = pd.DataFrame(columns = columns_names, index = metrics_df.index)\n",
    "\n",
    "    comp_pbar = tqdm(range(len(metrics_df.index)), desc = 'Realizando a verificação para cada par de indivíduos...')\n",
    "    for i in comp_pbar:\n",
    "\n",
    "        index = metrics_df.index[i]\n",
    "        value  = metrics_df.iat[i, 0]\n",
    "\n",
    "        verified = value < threshold\n",
    "        if verified: identified = True\n",
    "        else: identified = False\n",
    "\n",
    "        names = index.split(' - ')\n",
    "        if (names[0])[:-1] == (names[1])[:-1]: ground_truth = True\n",
    "        else: ground_truth = False\n",
    "\n",
    "        ensembles = [identified, ground_truth]\n",
    "        verification_df.loc[index] = ensembles\n",
    "\n",
    "    return verification_df"
   ]
  },
  {
   "cell_type": "code",
   "execution_count": 21,
   "metadata": {
    "colab": {
     "base_uri": "https://localhost:8080/"
    },
    "id": "7uOOz2yq2fOX",
    "outputId": "4efcceb3-3fbd-4fbc-fbb1-c65938712895"
   },
   "outputs": [
    {
     "name": "stderr",
     "output_type": "stream",
     "text": [
      "Realizando a verificação para cada par de indivíduos...: 100%|██████████| 496/496 [00:00<00:00, 4696.12it/s]\n"
     ]
    }
   ],
   "source": [
    "verification_df = make_verification_dataframe(metrics_df)"
   ]
  },
  {
   "cell_type": "code",
   "execution_count": 22,
   "metadata": {
    "colab": {
     "base_uri": "https://localhost:8080/",
     "height": 424
    },
    "id": "PuePO9Qv3O4q",
    "outputId": "a6f6ac51-fc59-4302-82ba-5b2706f158c0"
   },
   "outputs": [
    {
     "data": {
      "text/html": [
       "<div>\n",
       "<style scoped>\n",
       "    .dataframe tbody tr th:only-of-type {\n",
       "        vertical-align: middle;\n",
       "    }\n",
       "\n",
       "    .dataframe tbody tr th {\n",
       "        vertical-align: top;\n",
       "    }\n",
       "\n",
       "    .dataframe thead th {\n",
       "        text-align: right;\n",
       "    }\n",
       "</style>\n",
       "<table border=\"1\" class=\"dataframe\">\n",
       "  <thead>\n",
       "    <tr style=\"text-align: right;\">\n",
       "      <th></th>\n",
       "      <th>Verified</th>\n",
       "      <th>GroundTruth</th>\n",
       "    </tr>\n",
       "  </thead>\n",
       "  <tbody>\n",
       "    <tr>\n",
       "      <th>Alex_Koji1 - Ariel_Guerreiro1</th>\n",
       "      <td>False</td>\n",
       "      <td>False</td>\n",
       "    </tr>\n",
       "    <tr>\n",
       "      <th>Alex_Koji1 - Ariel_Guerreiro2</th>\n",
       "      <td>False</td>\n",
       "      <td>False</td>\n",
       "    </tr>\n",
       "    <tr>\n",
       "      <th>Alex_Koji1 - Camila_Fonseca1</th>\n",
       "      <td>False</td>\n",
       "      <td>False</td>\n",
       "    </tr>\n",
       "    <tr>\n",
       "      <th>Alex_Koji1 - Camila_Fonseca2</th>\n",
       "      <td>False</td>\n",
       "      <td>False</td>\n",
       "    </tr>\n",
       "    <tr>\n",
       "      <th>Alex_Koji1 - Eduardo_Eiras1</th>\n",
       "      <td>False</td>\n",
       "      <td>False</td>\n",
       "    </tr>\n",
       "    <tr>\n",
       "      <th>...</th>\n",
       "      <td>...</td>\n",
       "      <td>...</td>\n",
       "    </tr>\n",
       "    <tr>\n",
       "      <th>Paulo_Sestini2 - Rodrigo_Fill2</th>\n",
       "      <td>False</td>\n",
       "      <td>False</td>\n",
       "    </tr>\n",
       "    <tr>\n",
       "      <th>Paulo_Sestini2 - Victor_Jinsi1</th>\n",
       "      <td>False</td>\n",
       "      <td>False</td>\n",
       "    </tr>\n",
       "    <tr>\n",
       "      <th>Rodrigo_Fill1 - Rodrigo_Fill2</th>\n",
       "      <td>True</td>\n",
       "      <td>True</td>\n",
       "    </tr>\n",
       "    <tr>\n",
       "      <th>Rodrigo_Fill1 - Victor_Jinsi1</th>\n",
       "      <td>False</td>\n",
       "      <td>False</td>\n",
       "    </tr>\n",
       "    <tr>\n",
       "      <th>Rodrigo_Fill2 - Victor_Jinsi1</th>\n",
       "      <td>False</td>\n",
       "      <td>False</td>\n",
       "    </tr>\n",
       "  </tbody>\n",
       "</table>\n",
       "<p>496 rows × 2 columns</p>\n",
       "</div>"
      ],
      "text/plain": [
       "                               Verified GroundTruth\n",
       "Alex_Koji1 - Ariel_Guerreiro1     False       False\n",
       "Alex_Koji1 - Ariel_Guerreiro2     False       False\n",
       "Alex_Koji1 - Camila_Fonseca1      False       False\n",
       "Alex_Koji1 - Camila_Fonseca2      False       False\n",
       "Alex_Koji1 - Eduardo_Eiras1       False       False\n",
       "...                                 ...         ...\n",
       "Paulo_Sestini2 - Rodrigo_Fill2    False       False\n",
       "Paulo_Sestini2 - Victor_Jinsi1    False       False\n",
       "Rodrigo_Fill1 - Rodrigo_Fill2      True        True\n",
       "Rodrigo_Fill1 - Victor_Jinsi1     False       False\n",
       "Rodrigo_Fill2 - Victor_Jinsi1     False       False\n",
       "\n",
       "[496 rows x 2 columns]"
      ]
     },
     "execution_count": 22,
     "metadata": {},
     "output_type": "execute_result"
    }
   ],
   "source": [
    "verification_df"
   ]
  },
  {
   "cell_type": "code",
   "execution_count": 23,
   "metadata": {
    "id": "Q96j1orYDL9c"
   },
   "outputs": [],
   "source": [
    "verification_df.to_pickle('arcface_files/verification_df.pkl', protocol=4)"
   ]
  },
  {
   "cell_type": "markdown",
   "metadata": {
    "id": "bn2Y5QCVDLz9"
   },
   "source": [
    "import pandas as pd\n",
    "\n",
    "verification = pd.read_pickle('arcface_files/verification_df.pkl')"
   ]
  },
  {
   "cell_type": "markdown",
   "metadata": {
    "id": "vpdvn3ZKzVSI"
   },
   "source": [
    "## **Função para avaliar o desempenho do modelo**"
   ]
  },
  {
   "cell_type": "code",
   "execution_count": 24,
   "metadata": {
    "id": "FITRxBOa2jtY"
   },
   "outputs": [],
   "source": [
    "def make_f1_dataframe(verif_df):\n",
    "\n",
    "    TP, FP, TN, FN = 0, 0, 0, 0   \n",
    "    column_names = ['Accuracy', 'Recall', 'Precision', 'Positive Pairs Rate', 'Negative Pairs Rate', 'F1']\n",
    "    for i in range(len(verif_df.index)):\n",
    "\n",
    "        if (verif_df.iat[i, 0] == verif_df.iat[i, 1]) and (verif_df.iat[i, 0] == True):\n",
    "            TP += 1\n",
    "        elif (verif_df.iat[i, 0] != verif_df.iat[i, 1]) and (verif_df.iat[i, 0] == True):\n",
    "            FP += 1 \n",
    "        elif (verif_df.iat[i, 0] == verif_df.iat[i, 1]) and (verif_df.iat[i, 0] != True):\n",
    "            TN += 1\n",
    "        else:\n",
    "            FN += 1\n",
    "\n",
    "    accuracy = (TP+TN)/(TP+TN+FP+FN)\n",
    "    recall = TN/(TN+FN)\n",
    "    precision = TP/(TP+FP)\n",
    "    positive_rate = TP/(TP+FN)\n",
    "    negative_rate = TN/(TN+FP)\n",
    "    f1 = 2*(recall*precision)/(recall+precision)\n",
    "    f1_df = pd.DataFrame([list([accuracy, recall, precision, positive_rate, negative_rate, f1])], columns = column_names, index = ['Results:'])\n",
    "\n",
    "    return f1_df"
   ]
  },
  {
   "cell_type": "code",
   "execution_count": 25,
   "metadata": {
    "colab": {
     "base_uri": "https://localhost:8080/",
     "height": 81
    },
    "id": "5cMEIHtT2pt4",
    "outputId": "c868a5c9-18c7-4084-87c9-49bf1e27d793"
   },
   "outputs": [
    {
     "data": {
      "text/html": [
       "<div>\n",
       "<style scoped>\n",
       "    .dataframe tbody tr th:only-of-type {\n",
       "        vertical-align: middle;\n",
       "    }\n",
       "\n",
       "    .dataframe tbody tr th {\n",
       "        vertical-align: top;\n",
       "    }\n",
       "\n",
       "    .dataframe thead th {\n",
       "        text-align: right;\n",
       "    }\n",
       "</style>\n",
       "<table border=\"1\" class=\"dataframe\">\n",
       "  <thead>\n",
       "    <tr style=\"text-align: right;\">\n",
       "      <th></th>\n",
       "      <th>Accuracy</th>\n",
       "      <th>Recall</th>\n",
       "      <th>Precision</th>\n",
       "      <th>Positive Pairs Rate</th>\n",
       "      <th>Negative Pairs Rate</th>\n",
       "      <th>F1</th>\n",
       "    </tr>\n",
       "  </thead>\n",
       "  <tbody>\n",
       "    <tr>\n",
       "      <th>Results:</th>\n",
       "      <td>1.0</td>\n",
       "      <td>1.0</td>\n",
       "      <td>1.0</td>\n",
       "      <td>1.0</td>\n",
       "      <td>1.0</td>\n",
       "      <td>1.0</td>\n",
       "    </tr>\n",
       "  </tbody>\n",
       "</table>\n",
       "</div>"
      ],
      "text/plain": [
       "          Accuracy  Recall  Precision  Positive Pairs Rate  \\\n",
       "Results:       1.0     1.0        1.0                  1.0   \n",
       "\n",
       "          Negative Pairs Rate   F1  \n",
       "Results:                  1.0  1.0  "
      ]
     },
     "execution_count": 25,
     "metadata": {},
     "output_type": "execute_result"
    }
   ],
   "source": [
    "make_f1_dataframe(verification_df)"
   ]
  },
  {
   "cell_type": "markdown",
   "metadata": {
    "id": "nY01P3dwzhdj"
   },
   "source": [
    "## **Distribuição das similaridades para pares positivos e negativos**"
   ]
  },
  {
   "cell_type": "code",
   "execution_count": 26,
   "metadata": {
    "colab": {
     "base_uri": "https://localhost:8080/",
     "height": 265
    },
    "id": "2Xo7Oxm72sRX",
    "outputId": "a629f3a5-e1ab-44b5-f0bb-88af7e91a655"
   },
   "outputs": [
    {
     "data": {
      "image/png": "[encoded data removed]",
      "text/plain": [
       "<Figure size 432x288 with 1 Axes>"
      ]
     },
     "metadata": {
      "needs_background": "light"
     },
     "output_type": "display_data"
    }
   ],
   "source": [
    "(metrics_df[verification_df['GroundTruth'] == True])['CosineSimilarity'].plot.kde()\n",
    "(metrics_df[verification_df['GroundTruth'] == False])['CosineSimilarity'].plot.kde()\n",
    "plt.legend(['Pares positivos', 'Pares negativos'])\n",
    "plt.grid()\n",
    "plt.show()"
   ]
  }
 ],
 "metadata": {
  "colab": {
   "collapsed_sections": [],
   "name": "notebook_arcface_v2.ipynb",
   "provenance": []
  },
  "kernelspec": {
   "display_name": "Python 3",
   "language": "python",
   "name": "python3"
  },
  "language_info": {
   "codemirror_mode": {
    "name": "ipython",
    "version": 3
   },
   "file_extension": ".py",
   "mimetype": "text/x-python",
   "name": "python",
   "nbconvert_exporter": "python",
   "pygments_lexer": "ipython3",
   "version": "3.8.5"
  }
 },
 "nbformat": 4,
 "nbformat_minor": 4
}
