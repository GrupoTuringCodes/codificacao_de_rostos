{
 "cells": [
  {
   "cell_type": "code",
   "execution_count": 1,
   "metadata": {
    "id": "oOGa-zBr5uE1"
   },
   "outputs": [],
   "source": [
    "import pandas as pd\n",
    "import numpy as np\n",
    "import hnswlib\n",
    "import time\n",
    "\n",
    "from annoy import AnnoyIndex"
   ]
  },
  {
   "cell_type": "code",
   "execution_count": 2,
   "metadata": {
    "id": "eMS-xCGo5eUO"
   },
   "outputs": [],
   "source": [
    "hash_df = pd.read_pickle('arcface_files/hash_df.pkl')"
   ]
  },
  {
   "cell_type": "code",
   "execution_count": 3,
   "metadata": {
    "colab": {
     "base_uri": "https://localhost:8080/",
     "height": 1000
    },
    "id": "pBUPxMsL5wdS",
    "outputId": "2a8be2fb-5ccd-4ec0-bd36-fa1ac82ff20d"
   },
   "outputs": [
    {
     "data": {
      "text/html": [
       "<div>\n",
       "<style scoped>\n",
       "    .dataframe tbody tr th:only-of-type {\n",
       "        vertical-align: middle;\n",
       "    }\n",
       "\n",
       "    .dataframe tbody tr th {\n",
       "        vertical-align: top;\n",
       "    }\n",
       "\n",
       "    .dataframe thead th {\n",
       "        text-align: right;\n",
       "    }\n",
       "</style>\n",
       "<table border=\"1\" class=\"dataframe\">\n",
       "  <thead>\n",
       "    <tr style=\"text-align: right;\">\n",
       "      <th></th>\n",
       "      <th>ArcFace</th>\n",
       "    </tr>\n",
       "  </thead>\n",
       "  <tbody>\n",
       "    <tr>\n",
       "      <th>Alex_Koji1</th>\n",
       "      <td>[-0.07898863, 0.29689148, -2.5531418, -1.08932...</td>\n",
       "    </tr>\n",
       "    <tr>\n",
       "      <th>Ariel_Guerreiro1</th>\n",
       "      <td>[0.32658285, -0.7017476, -0.64553106, -0.57638...</td>\n",
       "    </tr>\n",
       "    <tr>\n",
       "      <th>Ariel_Guerreiro2</th>\n",
       "      <td>[0.5509473, -0.9909145, -0.34865752, -0.563928...</td>\n",
       "    </tr>\n",
       "    <tr>\n",
       "      <th>Camila_Fonseca1</th>\n",
       "      <td>[-1.5818309, -1.160022, 1.65914, 0.49970958, 2...</td>\n",
       "    </tr>\n",
       "    <tr>\n",
       "      <th>Camila_Fonseca2</th>\n",
       "      <td>[-2.0179617, 0.070794165, 2.3806381, -0.884002...</td>\n",
       "    </tr>\n",
       "    <tr>\n",
       "      <th>Eduardo_Eiras1</th>\n",
       "      <td>[-0.03154268, -1.23299, -0.6005332, 0.20772809...</td>\n",
       "    </tr>\n",
       "    <tr>\n",
       "      <th>Eduardo_Eiras2</th>\n",
       "      <td>[0.4015549, -1.7482035, -0.32626057, 0.1923889...</td>\n",
       "    </tr>\n",
       "    <tr>\n",
       "      <th>Eduardo_Eiras3</th>\n",
       "      <td>[0.09118195, -1.7747225, -0.42174166, 1.536756...</td>\n",
       "    </tr>\n",
       "    <tr>\n",
       "      <th>Eduardo_Eiras4</th>\n",
       "      <td>[-0.63092244, -1.3873752, -0.76119167, -0.2832...</td>\n",
       "    </tr>\n",
       "    <tr>\n",
       "      <th>Eduardo_Eiras5</th>\n",
       "      <td>[-0.090289675, -1.9531868, -0.14185497, 0.9069...</td>\n",
       "    </tr>\n",
       "    <tr>\n",
       "      <th>Enzo_Bustos1</th>\n",
       "      <td>[2.354969, -1.078496, 0.3044402, 0.52788395, -...</td>\n",
       "    </tr>\n",
       "    <tr>\n",
       "      <th>Enzo_Bustos2</th>\n",
       "      <td>[2.1111567, -1.8650384, 0.7342539, 0.67514086,...</td>\n",
       "    </tr>\n",
       "    <tr>\n",
       "      <th>Felipe_Azank1</th>\n",
       "      <td>[-0.13501208, -0.2091739, 0.065016195, 0.05344...</td>\n",
       "    </tr>\n",
       "    <tr>\n",
       "      <th>Felipe_Azank2</th>\n",
       "      <td>[-1.906696, -0.46989766, 1.4539726, 0.9117646,...</td>\n",
       "    </tr>\n",
       "    <tr>\n",
       "      <th>Felipe_Azank3</th>\n",
       "      <td>[-0.29147577, 0.0067214365, -0.23681025, 0.607...</td>\n",
       "    </tr>\n",
       "    <tr>\n",
       "      <th>Guilherme_Cola1</th>\n",
       "      <td>[0.34685284, 1.7327063, 0.8026821, -0.7148924,...</td>\n",
       "    </tr>\n",
       "    <tr>\n",
       "      <th>Guilherme_Cola2</th>\n",
       "      <td>[0.32865295, 1.7381437, 0.88204324, -0.9290769...</td>\n",
       "    </tr>\n",
       "    <tr>\n",
       "      <th>Guilherme_Goncalves1</th>\n",
       "      <td>[0.52387184, -0.94092226, -1.21179, -1.2721274...</td>\n",
       "    </tr>\n",
       "    <tr>\n",
       "      <th>Guilherme_Goncalves2</th>\n",
       "      <td>[0.53069353, -1.0352924, -1.294146, -1.0679712...</td>\n",
       "    </tr>\n",
       "    <tr>\n",
       "      <th>Leonardo_Murakami1</th>\n",
       "      <td>[0.73463917, 1.1595278, 1.0404944, -1.2955294,...</td>\n",
       "    </tr>\n",
       "    <tr>\n",
       "      <th>Leonardo_Murakami2</th>\n",
       "      <td>[0.38758636, 1.2051771, 1.749144, -1.51255, 0....</td>\n",
       "    </tr>\n",
       "    <tr>\n",
       "      <th>Luisa_Heise1</th>\n",
       "      <td>[-2.3193252, 0.0348225, 1.0841111, -0.36340025...</td>\n",
       "    </tr>\n",
       "    <tr>\n",
       "      <th>Luisa_Heise2</th>\n",
       "      <td>[-2.7051022, 0.6909716, 0.52857184, -0.5477361...</td>\n",
       "    </tr>\n",
       "    <tr>\n",
       "      <th>Nelson_Alves1</th>\n",
       "      <td>[1.1043621, -1.2650893, -0.20539719, 0.3436208...</td>\n",
       "    </tr>\n",
       "    <tr>\n",
       "      <th>Nelson_Alves2</th>\n",
       "      <td>[2.3778439, -0.79053754, 0.13994648, 0.2409673...</td>\n",
       "    </tr>\n",
       "    <tr>\n",
       "      <th>Noel_Viscome1</th>\n",
       "      <td>[-0.42517552, -0.9682195, -0.461269, 0.9338636...</td>\n",
       "    </tr>\n",
       "    <tr>\n",
       "      <th>Noel_Viscome2</th>\n",
       "      <td>[-0.118206896, 0.341418, 0.0806931, 1.0353438,...</td>\n",
       "    </tr>\n",
       "    <tr>\n",
       "      <th>Paulo_Sestini1</th>\n",
       "      <td>[-0.1958941, 0.6923602, -1.0924293, 1.1241529,...</td>\n",
       "    </tr>\n",
       "    <tr>\n",
       "      <th>Paulo_Sestini2</th>\n",
       "      <td>[-0.3264162, 0.5314112, -0.79950345, 0.5179381...</td>\n",
       "    </tr>\n",
       "    <tr>\n",
       "      <th>Rodrigo_Fill1</th>\n",
       "      <td>[0.8001178, 0.7996407, -1.8579195, 0.81695694,...</td>\n",
       "    </tr>\n",
       "    <tr>\n",
       "      <th>Rodrigo_Fill2</th>\n",
       "      <td>[0.2553075, -0.6583039, -0.5183702, 0.6791352,...</td>\n",
       "    </tr>\n",
       "    <tr>\n",
       "      <th>Victor_Jinsi1</th>\n",
       "      <td>[0.5661467, -1.0004205, 0.7828165, 1.0176481, ...</td>\n",
       "    </tr>\n",
       "  </tbody>\n",
       "</table>\n",
       "</div>"
      ],
      "text/plain": [
       "                                                                ArcFace\n",
       "Alex_Koji1            [-0.07898863, 0.29689148, -2.5531418, -1.08932...\n",
       "Ariel_Guerreiro1      [0.32658285, -0.7017476, -0.64553106, -0.57638...\n",
       "Ariel_Guerreiro2      [0.5509473, -0.9909145, -0.34865752, -0.563928...\n",
       "Camila_Fonseca1       [-1.5818309, -1.160022, 1.65914, 0.49970958, 2...\n",
       "Camila_Fonseca2       [-2.0179617, 0.070794165, 2.3806381, -0.884002...\n",
       "Eduardo_Eiras1        [-0.03154268, -1.23299, -0.6005332, 0.20772809...\n",
       "Eduardo_Eiras2        [0.4015549, -1.7482035, -0.32626057, 0.1923889...\n",
       "Eduardo_Eiras3        [0.09118195, -1.7747225, -0.42174166, 1.536756...\n",
       "Eduardo_Eiras4        [-0.63092244, -1.3873752, -0.76119167, -0.2832...\n",
       "Eduardo_Eiras5        [-0.090289675, -1.9531868, -0.14185497, 0.9069...\n",
       "Enzo_Bustos1          [2.354969, -1.078496, 0.3044402, 0.52788395, -...\n",
       "Enzo_Bustos2          [2.1111567, -1.8650384, 0.7342539, 0.67514086,...\n",
       "Felipe_Azank1         [-0.13501208, -0.2091739, 0.065016195, 0.05344...\n",
       "Felipe_Azank2         [-1.906696, -0.46989766, 1.4539726, 0.9117646,...\n",
       "Felipe_Azank3         [-0.29147577, 0.0067214365, -0.23681025, 0.607...\n",
       "Guilherme_Cola1       [0.34685284, 1.7327063, 0.8026821, -0.7148924,...\n",
       "Guilherme_Cola2       [0.32865295, 1.7381437, 0.88204324, -0.9290769...\n",
       "Guilherme_Goncalves1  [0.52387184, -0.94092226, -1.21179, -1.2721274...\n",
       "Guilherme_Goncalves2  [0.53069353, -1.0352924, -1.294146, -1.0679712...\n",
       "Leonardo_Murakami1    [0.73463917, 1.1595278, 1.0404944, -1.2955294,...\n",
       "Leonardo_Murakami2    [0.38758636, 1.2051771, 1.749144, -1.51255, 0....\n",
       "Luisa_Heise1          [-2.3193252, 0.0348225, 1.0841111, -0.36340025...\n",
       "Luisa_Heise2          [-2.7051022, 0.6909716, 0.52857184, -0.5477361...\n",
       "Nelson_Alves1         [1.1043621, -1.2650893, -0.20539719, 0.3436208...\n",
       "Nelson_Alves2         [2.3778439, -0.79053754, 0.13994648, 0.2409673...\n",
       "Noel_Viscome1         [-0.42517552, -0.9682195, -0.461269, 0.9338636...\n",
       "Noel_Viscome2         [-0.118206896, 0.341418, 0.0806931, 1.0353438,...\n",
       "Paulo_Sestini1        [-0.1958941, 0.6923602, -1.0924293, 1.1241529,...\n",
       "Paulo_Sestini2        [-0.3264162, 0.5314112, -0.79950345, 0.5179381...\n",
       "Rodrigo_Fill1         [0.8001178, 0.7996407, -1.8579195, 0.81695694,...\n",
       "Rodrigo_Fill2         [0.2553075, -0.6583039, -0.5183702, 0.6791352,...\n",
       "Victor_Jinsi1         [0.5661467, -1.0004205, 0.7828165, 1.0176481, ..."
      ]
     },
     "execution_count": 3,
     "metadata": {},
     "output_type": "execute_result"
    }
   ],
   "source": [
    "hash_df"
   ]
  },
  {
   "cell_type": "markdown",
   "metadata": {
    "id": "F5JbQ3_vrRhT"
   },
   "source": [
    "## **Adicionando 100.000 novas representações aleatórias ao dataset**"
   ]
  },
  {
   "cell_type": "code",
   "execution_count": 4,
   "metadata": {
    "id": "OIkIhmtN7hbg"
   },
   "outputs": [],
   "source": [
    "data = hash_df['ArcFace'].to_numpy()\n",
    "data = np.stack(data)\n",
    "\n",
    "query = data[5, :]\n",
    "\n",
    "data = np.delete(data, [5], axis=0)\n",
    "random_data = np.random.normal(loc=0.0, scale=1.0, size=(int(1e5), data.shape[1]))\n",
    "data = np.concatenate([data, random_data], axis=0)\n",
    "\n",
    "\n",
    "data_labels = list(hash_df.index)\n",
    "query_label = data_labels[5]\n",
    "del data_labels[5]\n",
    "random_labels = ['random_{}'.format(i) for i in range(int(1e5))]\n",
    "data_labels = data_labels + random_labels\n",
    "data_labels = np.asarray(data_labels)"
   ]
  },
  {
   "cell_type": "markdown",
   "metadata": {
    "id": "is33L22D8tuh"
   },
   "source": [
    "# **Busca linear (exata)**"
   ]
  },
  {
   "cell_type": "markdown",
   "metadata": {
    "id": "5tkhXcG-uao3"
   },
   "source": [
    "### Função de busca linear"
   ]
  },
  {
   "cell_type": "code",
   "execution_count": 5,
   "metadata": {
    "id": "kcVLzda69-P9"
   },
   "outputs": [],
   "source": [
    "def linear_search(query, data, data_labels, threshold=.35):\n",
    "  \n",
    "    query = np.expand_dims(query, axis=-1)\n",
    "    data_dot_query = np.dot(data, query)\n",
    "\n",
    "    diag = (data*data).sum(axis=-1)\n",
    "    diag = np.expand_dims(diag, axis=-1)\n",
    "\n",
    "    query_norm2 = np.dot(query.T, query)\n",
    "\n",
    "    cosines = np.divide(data_dot_query, np.sqrt(query_norm2*diag))\n",
    "    verif = cosines > threshold\n",
    "    verif = verif.squeeze(axis=-1)\n",
    "\n",
    "    return data_labels[np.argwhere(verif==True)]"
   ]
  },
  {
   "cell_type": "markdown",
   "metadata": {
    "id": "FEUxSBKGufn2"
   },
   "source": [
    "### Salvando array de representações e *labels*"
   ]
  },
  {
   "cell_type": "code",
   "execution_count": 6,
   "metadata": {
    "id": "wRFySaFNtixl"
   },
   "outputs": [],
   "source": [
    "with open('search_files/search_data.npy', 'wb') as f:\n",
    "    np.save(f, data)\n",
    "    np.save(f, data_labels)\n",
    "\n",
    "del data\n",
    "del data_labels"
   ]
  },
  {
   "cell_type": "markdown",
   "metadata": {
    "id": "B3-r2Rc8uqsz"
   },
   "source": [
    "### Carregando array de representações e labels"
   ]
  },
  {
   "cell_type": "code",
   "execution_count": 7,
   "metadata": {
    "id": "OPQZ0f37uEP-"
   },
   "outputs": [],
   "source": [
    "tic = time.time()\n",
    "with open('search_files/search_data.npy', 'rb') as f:\n",
    "    data = np.load(f)\n",
    "    data_labels = np.load(f)\n",
    "toc = time.time()\n",
    "\n",
    "linear_load_time = toc - tic"
   ]
  },
  {
   "cell_type": "markdown",
   "metadata": {
    "id": "E-du8ZC0u4L1"
   },
   "source": [
    "### Realizando busca linear"
   ]
  },
  {
   "cell_type": "code",
   "execution_count": 8,
   "metadata": {
    "id": "ITzvyf_nAraC"
   },
   "outputs": [],
   "source": [
    "tic = time.time()\n",
    "linear_labels = linear_search(query, data, data_labels, threshold=.35)\n",
    "toc = time.time()\n",
    "\n",
    "linear_query_time = toc - tic"
   ]
  },
  {
   "cell_type": "markdown",
   "metadata": {
    "id": "xPinCM_781Hd"
   },
   "source": [
    "# **Hierarchical Navigable Small World (HNSW)**\n",
    "\n",
    "Algoritmo de ANN baseado em grafos"
   ]
  },
  {
   "cell_type": "markdown",
   "metadata": {
    "id": "-_JqQmw4_wfq"
   },
   "source": [
    "**Estrutura de grafo em várias camadas**\n",
    "\n",
    "<img src=\"imagens/hnsw_graph.PNG\">"
   ]
  },
  {
   "cell_type": "markdown",
   "metadata": {},
   "source": [
    "Malkov, Yuri et al. Efficient and robust approximate nearest neighbor search using Hierarchical Navigable Small World graphs (2016)"
   ]
  },
  {
   "cell_type": "markdown",
   "metadata": {
    "id": "SETG18nBv16d"
   },
   "source": [
    "### Construindo, adicionando itens e salvando grafo"
   ]
  },
  {
   "cell_type": "code",
   "execution_count": 9,
   "metadata": {
    "id": "RRJmV8A777P8"
   },
   "outputs": [],
   "source": [
    "graph = hnswlib.Index(space='cosine', dim=512)\n",
    "graph.init_index(max_elements=len(data), ef_construction=200, M=48)\n",
    "graph.add_items(data, np.arange(len(data_labels)))\n",
    "graph.set_ef(100)\n",
    "graph.save_index('search_files/hnsw.bin')\n",
    "\n",
    "del graph"
   ]
  },
  {
   "cell_type": "markdown",
   "metadata": {
    "id": "Y8PG3KvIwI9V"
   },
   "source": [
    "### Carregando grafo"
   ]
  },
  {
   "cell_type": "code",
   "execution_count": 40,
   "metadata": {
    "id": "pc6iyFr3vFR6"
   },
   "outputs": [],
   "source": [
    "tic = time.time()\n",
    "graph = hnswlib.Index(space='cosine', dim=512)\n",
    "graph.load_index('search_files/hnsw.bin')\n",
    "toc = time.time()\n",
    "\n",
    "hnsw_load_time = toc - tic"
   ]
  },
  {
   "cell_type": "markdown",
   "metadata": {
    "id": "MdNE6ciFwKlT"
   },
   "source": [
    "### Realizando query"
   ]
  },
  {
   "cell_type": "code",
   "execution_count": 41,
   "metadata": {
    "id": "J4aQihzx8PCi"
   },
   "outputs": [],
   "source": [
    "tic = time.time()\n",
    "labels, distances = graph.knn_query(query, k=4)\n",
    "toc = time.time()"
   ]
  },
  {
   "cell_type": "code",
   "execution_count": 42,
   "metadata": {
    "id": "a7C95TZMTDw2"
   },
   "outputs": [],
   "source": [
    "hnsw_labels = data_labels[labels]\n",
    "hnsw_query_time = toc - tic"
   ]
  },
  {
   "cell_type": "code",
   "execution_count": 13,
   "metadata": {
    "id": "YvHfP5TEe92q"
   },
   "outputs": [],
   "source": [
    "del graph"
   ]
  },
  {
   "cell_type": "markdown",
   "metadata": {
    "id": "eUdjCdg39F1o"
   },
   "source": [
    "# **Annoy**\n",
    "\n",
    "Algoritmo de ANN baseado em árvores binárias"
   ]
  },
  {
   "cell_type": "markdown",
   "metadata": {
    "id": "H4CyA2ZP43PV"
   },
   "source": [
    "**Exemplo de uma das árvores binárias**\n",
    "\n",
    "<img src=\"imagens/tree_annoy.PNG\">"
   ]
  },
  {
   "cell_type": "markdown",
   "metadata": {
    "id": "5A44HPuk420S"
   },
   "source": [
    "**Divisão de espaço bidimensional pela árvore**\n",
    "\n",
    "<img src=\"imagens/space_annoy.PNG\">"
   ]
  },
  {
   "cell_type": "markdown",
   "metadata": {},
   "source": [
    "https://github.com/spotify/annoy"
   ]
  },
  {
   "cell_type": "markdown",
   "metadata": {
    "id": "8J5G9PhBwbTL"
   },
   "source": [
    "### Construindo, adicionando itens e salvando floresta"
   ]
  },
  {
   "cell_type": "code",
   "execution_count": 14,
   "metadata": {
    "id": "5vmi7Lq09Mod"
   },
   "outputs": [],
   "source": [
    "forest = AnnoyIndex(512, 'angular')\n",
    "\n",
    "for i in range(len(data)):\n",
    "    v = data[i, :]\n",
    "    forest.add_item(i, v)\n",
    "\n",
    "forest.build(n_trees=20)\n",
    "forest.save('search_files/forest.ann')\n",
    "del forest"
   ]
  },
  {
   "cell_type": "markdown",
   "metadata": {
    "id": "BAKfbc24wbq4"
   },
   "source": [
    "### Carregando floresta"
   ]
  },
  {
   "cell_type": "code",
   "execution_count": 26,
   "metadata": {
    "id": "faT9jfUUwAu4"
   },
   "outputs": [],
   "source": [
    "tic = time.time()\n",
    "forest = AnnoyIndex(512, 'angular')\n",
    "forest.load('search_files/forest.ann')\n",
    "toc = time.time()\n",
    "\n",
    "annoy_load_time = toc - tic"
   ]
  },
  {
   "cell_type": "markdown",
   "metadata": {
    "id": "C4RrdjcYwcYM"
   },
   "source": [
    "### Realizando query"
   ]
  },
  {
   "cell_type": "code",
   "execution_count": 31,
   "metadata": {
    "id": "aAdBXKNi95ir"
   },
   "outputs": [],
   "source": [
    "tic = time.time()\n",
    "labels = forest.get_nns_by_vector(query, n=4)\n",
    "toc = time.time()"
   ]
  },
  {
   "cell_type": "code",
   "execution_count": 32,
   "metadata": {
    "id": "n1VGTIWAS6EB"
   },
   "outputs": [],
   "source": [
    "annoy_labels = data_labels[labels]\n",
    "annoy_query_time = toc - tic"
   ]
  },
  {
   "cell_type": "code",
   "execution_count": 18,
   "metadata": {
    "id": "_6vpGYL0e0lT"
   },
   "outputs": [],
   "source": [
    "del forest"
   ]
  },
  {
   "cell_type": "markdown",
   "metadata": {
    "id": "0X42ALSnwhmM"
   },
   "source": [
    "## **Resultados - Labels**"
   ]
  },
  {
   "cell_type": "code",
   "execution_count": 19,
   "metadata": {
    "colab": {
     "base_uri": "https://localhost:8080/",
     "height": 36
    },
    "id": "NFEOoMWIwlVI",
    "outputId": "2c069384-9e21-4b2c-a1f1-95e6baf62736"
   },
   "outputs": [
    {
     "data": {
      "text/plain": [
       "'Eduardo_Eiras1'"
      ]
     },
     "execution_count": 19,
     "metadata": {},
     "output_type": "execute_result"
    }
   ],
   "source": [
    "query_label"
   ]
  },
  {
   "cell_type": "code",
   "execution_count": 20,
   "metadata": {
    "colab": {
     "base_uri": "https://localhost:8080/"
    },
    "id": "8a20vRquwpM1",
    "outputId": "01430c22-1785-43c6-c838-c8df3668c81f"
   },
   "outputs": [
    {
     "data": {
      "text/plain": [
       "array([['Eduardo_Eiras2'],\n",
       "       ['Eduardo_Eiras3'],\n",
       "       ['Eduardo_Eiras4'],\n",
       "       ['Eduardo_Eiras5']], dtype='<U20')"
      ]
     },
     "execution_count": 20,
     "metadata": {},
     "output_type": "execute_result"
    }
   ],
   "source": [
    "linear_labels"
   ]
  },
  {
   "cell_type": "code",
   "execution_count": 43,
   "metadata": {
    "colab": {
     "base_uri": "https://localhost:8080/"
    },
    "id": "mzLY_qRfwpFD",
    "outputId": "3791453c-0435-439b-be9d-8f6460b2bfb3"
   },
   "outputs": [
    {
     "data": {
      "text/plain": [
       "array([['Eduardo_Eiras3', 'Eduardo_Eiras2', 'Eduardo_Eiras5',\n",
       "        'Eduardo_Eiras4']], dtype='<U20')"
      ]
     },
     "execution_count": 43,
     "metadata": {},
     "output_type": "execute_result"
    }
   ],
   "source": [
    "hnsw_labels"
   ]
  },
  {
   "cell_type": "code",
   "execution_count": 44,
   "metadata": {
    "colab": {
     "base_uri": "https://localhost:8080/"
    },
    "id": "Psx67kZmwo7G",
    "outputId": "8849465d-21f1-45c6-96d4-5d4d9540f186"
   },
   "outputs": [
    {
     "data": {
      "text/plain": [
       "array(['Eduardo_Eiras2', 'random_87000', 'random_18006', 'random_13390'],\n",
       "      dtype='<U20')"
      ]
     },
     "execution_count": 44,
     "metadata": {},
     "output_type": "execute_result"
    }
   ],
   "source": [
    "annoy_labels"
   ]
  },
  {
   "cell_type": "markdown",
   "metadata": {
    "id": "LY97pOUVwyvm"
   },
   "source": [
    "## **Resultados - Tempo**"
   ]
  },
  {
   "cell_type": "code",
   "execution_count": 45,
   "metadata": {
    "id": "ZAXM7-NpwyHG"
   },
   "outputs": [],
   "source": [
    "time_df = pd.DataFrame(columns=['Load', 'Query', 'Total'], index=['Busca Linear', 'HNSW', 'Annoy'])"
   ]
  },
  {
   "cell_type": "code",
   "execution_count": 46,
   "metadata": {
    "id": "NoL1Mjw0xFoz"
   },
   "outputs": [],
   "source": [
    "load_list = [linear_load_time, hnsw_load_time, annoy_load_time]\n",
    "query_list = [linear_query_time, hnsw_query_time, annoy_query_time]\n",
    "\n",
    "time_df['Load'] = load_list\n",
    "time_df['Query'] = query_list\n",
    "time_df['Total'] = time_df['Load'] + time_df['Query']"
   ]
  },
  {
   "cell_type": "code",
   "execution_count": 47,
   "metadata": {
    "colab": {
     "base_uri": "https://localhost:8080/",
     "height": 143
    },
    "id": "VuRBgBx-xgjY",
    "outputId": "a01ae3da-398e-47e6-8a05-0dbab1c30200"
   },
   "outputs": [
    {
     "data": {
      "text/html": [
       "<div>\n",
       "<style scoped>\n",
       "    .dataframe tbody tr th:only-of-type {\n",
       "        vertical-align: middle;\n",
       "    }\n",
       "\n",
       "    .dataframe tbody tr th {\n",
       "        vertical-align: top;\n",
       "    }\n",
       "\n",
       "    .dataframe thead th {\n",
       "        text-align: right;\n",
       "    }\n",
       "</style>\n",
       "<table border=\"1\" class=\"dataframe\">\n",
       "  <thead>\n",
       "    <tr style=\"text-align: right;\">\n",
       "      <th></th>\n",
       "      <th>Load</th>\n",
       "      <th>Query</th>\n",
       "      <th>Total</th>\n",
       "    </tr>\n",
       "  </thead>\n",
       "  <tbody>\n",
       "    <tr>\n",
       "      <th>Busca Linear</th>\n",
       "      <td>1.599056</td>\n",
       "      <td>0.259174</td>\n",
       "      <td>1.858229</td>\n",
       "    </tr>\n",
       "    <tr>\n",
       "      <th>HNSW</th>\n",
       "      <td>1.438586</td>\n",
       "      <td>0.000554</td>\n",
       "      <td>1.439140</td>\n",
       "    </tr>\n",
       "    <tr>\n",
       "      <th>Annoy</th>\n",
       "      <td>0.006971</td>\n",
       "      <td>0.001090</td>\n",
       "      <td>0.008061</td>\n",
       "    </tr>\n",
       "  </tbody>\n",
       "</table>\n",
       "</div>"
      ],
      "text/plain": [
       "                  Load     Query     Total\n",
       "Busca Linear  1.599056  0.259174  1.858229\n",
       "HNSW          1.438586  0.000554  1.439140\n",
       "Annoy         0.006971  0.001090  0.008061"
      ]
     },
     "execution_count": 47,
     "metadata": {},
     "output_type": "execute_result"
    }
   ],
   "source": [
    "time_df"
   ]
  }
 ],
 "metadata": {
  "colab": {
   "collapsed_sections": [],
   "name": "1n_search.ipynb",
   "provenance": []
  },
  "kernelspec": {
   "display_name": "Python 3",
   "language": "python",
   "name": "python3"
  },
  "language_info": {
   "codemirror_mode": {
    "name": "ipython",
    "version": 3
   },
   "file_extension": ".py",
   "mimetype": "text/x-python",
   "name": "python",
   "nbconvert_exporter": "python",
   "pygments_lexer": "ipython3",
   "version": "3.8.5"
  }
 },
 "nbformat": 4,
 "nbformat_minor": 4
}
