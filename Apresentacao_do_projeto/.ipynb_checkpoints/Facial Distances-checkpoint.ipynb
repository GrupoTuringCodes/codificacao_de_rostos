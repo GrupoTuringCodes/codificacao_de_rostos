{
 "cells": [
  {
   "cell_type": "markdown",
   "metadata": {},
   "source": [
    "# Pontos faciais para reconhecimento"
   ]
  },
  {
   "cell_type": "markdown",
   "metadata": {},
   "source": [
    "## Bibliotecas necessárias "
   ]
  },
  {
   "cell_type": "code",
   "execution_count": 2,
   "metadata": {},
   "outputs": [],
   "source": [
    "import numpy as np\n",
    "import pandas as pd\n",
    "import matplotlib.pyplot as plt\n",
    "import os\n",
    "import pathlib\n",
    "import random"
   ]
  },
  {
   "cell_type": "markdown",
   "metadata": {},
   "source": [
    "### Diretório do arquivo"
   ]
  },
  {
   "cell_type": "code",
   "execution_count": 16,
   "metadata": {},
   "outputs": [],
   "source": [
    "data_dir = pathlib.Path(r'..\\Data\\features_rostos_estevam.csv')"
   ]
  },
  {
   "cell_type": "code",
   "execution_count": 18,
   "metadata": {},
   "outputs": [],
   "source": [
    "test_dir = pathlib.Path(r'..\\Data\\turing_faces_distances.csv')"
   ]
  },
  {
   "cell_type": "code",
   "execution_count": 17,
   "metadata": {},
   "outputs": [],
   "source": [
    "data = pd.read_csv(data_dir)"
   ]
  },
  {
   "cell_type": "code",
   "execution_count": 19,
   "metadata": {},
   "outputs": [],
   "source": [
    "test_data = pd.read_csv(test_dir)"
   ]
  },
  {
   "cell_type": "markdown",
   "metadata": {},
   "source": [
    "Vamos ver como é nosso arquivo"
   ]
  },
  {
   "cell_type": "code",
   "execution_count": 20,
   "metadata": {},
   "outputs": [
    {
     "data": {
      "text/html": [
       "<div>\n",
       "<style scoped>\n",
       "    .dataframe tbody tr th:only-of-type {\n",
       "        vertical-align: middle;\n",
       "    }\n",
       "\n",
       "    .dataframe tbody tr th {\n",
       "        vertical-align: top;\n",
       "    }\n",
       "\n",
       "    .dataframe thead th {\n",
       "        text-align: right;\n",
       "    }\n",
       "</style>\n",
       "<table border=\"1\" class=\"dataframe\">\n",
       "  <thead>\n",
       "    <tr style=\"text-align: right;\">\n",
       "      <th></th>\n",
       "      <th>Unnamed: 0</th>\n",
       "      <th>0</th>\n",
       "      <th>1</th>\n",
       "      <th>2</th>\n",
       "      <th>3</th>\n",
       "      <th>4</th>\n",
       "      <th>5</th>\n",
       "      <th>6</th>\n",
       "      <th>7</th>\n",
       "      <th>8</th>\n",
       "      <th>...</th>\n",
       "      <th>21</th>\n",
       "      <th>22</th>\n",
       "      <th>23</th>\n",
       "      <th>24</th>\n",
       "      <th>25</th>\n",
       "      <th>26</th>\n",
       "      <th>27</th>\n",
       "      <th>28</th>\n",
       "      <th>29</th>\n",
       "      <th>Nome</th>\n",
       "    </tr>\n",
       "  </thead>\n",
       "  <tbody>\n",
       "    <tr>\n",
       "      <th>0</th>\n",
       "      <td>0</td>\n",
       "      <td>0.260142</td>\n",
       "      <td>0.046183</td>\n",
       "      <td>1.0</td>\n",
       "      <td>0.951472</td>\n",
       "      <td>0.854369</td>\n",
       "      <td>0.519104</td>\n",
       "      <td>0.277540</td>\n",
       "      <td>0.280888</td>\n",
       "      <td>0.432679</td>\n",
       "      <td>...</td>\n",
       "      <td>0.179145</td>\n",
       "      <td>0.162710</td>\n",
       "      <td>-0.056749</td>\n",
       "      <td>0.255016</td>\n",
       "      <td>0.239297</td>\n",
       "      <td>0.375422</td>\n",
       "      <td>0.359321</td>\n",
       "      <td>0.654896</td>\n",
       "      <td>0.302772</td>\n",
       "      <td>Aaron_Peirsol</td>\n",
       "    </tr>\n",
       "    <tr>\n",
       "      <th>1</th>\n",
       "      <td>1</td>\n",
       "      <td>0.254773</td>\n",
       "      <td>0.058447</td>\n",
       "      <td>1.0</td>\n",
       "      <td>0.957970</td>\n",
       "      <td>0.832973</td>\n",
       "      <td>0.495182</td>\n",
       "      <td>0.283555</td>\n",
       "      <td>0.246511</td>\n",
       "      <td>0.392400</td>\n",
       "      <td>...</td>\n",
       "      <td>0.196968</td>\n",
       "      <td>0.177396</td>\n",
       "      <td>-0.057979</td>\n",
       "      <td>0.239740</td>\n",
       "      <td>0.219459</td>\n",
       "      <td>0.368476</td>\n",
       "      <td>0.328212</td>\n",
       "      <td>0.669961</td>\n",
       "      <td>0.280692</td>\n",
       "      <td>Aaron_Peirsol</td>\n",
       "    </tr>\n",
       "    <tr>\n",
       "      <th>2</th>\n",
       "      <td>2</td>\n",
       "      <td>0.253177</td>\n",
       "      <td>0.047306</td>\n",
       "      <td>1.0</td>\n",
       "      <td>0.944648</td>\n",
       "      <td>0.844557</td>\n",
       "      <td>0.522190</td>\n",
       "      <td>0.289724</td>\n",
       "      <td>0.287694</td>\n",
       "      <td>0.450007</td>\n",
       "      <td>...</td>\n",
       "      <td>0.184831</td>\n",
       "      <td>0.179927</td>\n",
       "      <td>-0.061107</td>\n",
       "      <td>0.250068</td>\n",
       "      <td>0.225604</td>\n",
       "      <td>0.363262</td>\n",
       "      <td>0.344334</td>\n",
       "      <td>0.626515</td>\n",
       "      <td>0.295239</td>\n",
       "      <td>Aaron_Peirsol</td>\n",
       "    </tr>\n",
       "    <tr>\n",
       "      <th>3</th>\n",
       "      <td>3</td>\n",
       "      <td>0.237653</td>\n",
       "      <td>0.043372</td>\n",
       "      <td>1.0</td>\n",
       "      <td>0.959052</td>\n",
       "      <td>0.829501</td>\n",
       "      <td>0.493206</td>\n",
       "      <td>0.255357</td>\n",
       "      <td>0.292196</td>\n",
       "      <td>0.351102</td>\n",
       "      <td>...</td>\n",
       "      <td>0.212722</td>\n",
       "      <td>0.210850</td>\n",
       "      <td>-0.059389</td>\n",
       "      <td>0.268917</td>\n",
       "      <td>0.256376</td>\n",
       "      <td>0.357886</td>\n",
       "      <td>0.388767</td>\n",
       "      <td>0.751863</td>\n",
       "      <td>0.367562</td>\n",
       "      <td>Aaron_Peirsol</td>\n",
       "    </tr>\n",
       "    <tr>\n",
       "      <th>4</th>\n",
       "      <td>4</td>\n",
       "      <td>0.252994</td>\n",
       "      <td>0.034398</td>\n",
       "      <td>1.0</td>\n",
       "      <td>0.986235</td>\n",
       "      <td>0.852079</td>\n",
       "      <td>0.482434</td>\n",
       "      <td>0.385506</td>\n",
       "      <td>0.315833</td>\n",
       "      <td>0.442231</td>\n",
       "      <td>...</td>\n",
       "      <td>0.134067</td>\n",
       "      <td>0.146044</td>\n",
       "      <td>-0.052632</td>\n",
       "      <td>0.258137</td>\n",
       "      <td>0.239913</td>\n",
       "      <td>0.365022</td>\n",
       "      <td>0.321053</td>\n",
       "      <td>0.646611</td>\n",
       "      <td>0.281889</td>\n",
       "      <td>Aaron_Sorkin</td>\n",
       "    </tr>\n",
       "  </tbody>\n",
       "</table>\n",
       "<p>5 rows × 32 columns</p>\n",
       "</div>"
      ],
      "text/plain": [
       "   Unnamed: 0         0         1    2         3         4         5  \\\n",
       "0           0  0.260142  0.046183  1.0  0.951472  0.854369  0.519104   \n",
       "1           1  0.254773  0.058447  1.0  0.957970  0.832973  0.495182   \n",
       "2           2  0.253177  0.047306  1.0  0.944648  0.844557  0.522190   \n",
       "3           3  0.237653  0.043372  1.0  0.959052  0.829501  0.493206   \n",
       "4           4  0.252994  0.034398  1.0  0.986235  0.852079  0.482434   \n",
       "\n",
       "          6         7         8  ...        21        22        23        24  \\\n",
       "0  0.277540  0.280888  0.432679  ...  0.179145  0.162710 -0.056749  0.255016   \n",
       "1  0.283555  0.246511  0.392400  ...  0.196968  0.177396 -0.057979  0.239740   \n",
       "2  0.289724  0.287694  0.450007  ...  0.184831  0.179927 -0.061107  0.250068   \n",
       "3  0.255357  0.292196  0.351102  ...  0.212722  0.210850 -0.059389  0.268917   \n",
       "4  0.385506  0.315833  0.442231  ...  0.134067  0.146044 -0.052632  0.258137   \n",
       "\n",
       "         25        26        27        28        29           Nome  \n",
       "0  0.239297  0.375422  0.359321  0.654896  0.302772  Aaron_Peirsol  \n",
       "1  0.219459  0.368476  0.328212  0.669961  0.280692  Aaron_Peirsol  \n",
       "2  0.225604  0.363262  0.344334  0.626515  0.295239  Aaron_Peirsol  \n",
       "3  0.256376  0.357886  0.388767  0.751863  0.367562  Aaron_Peirsol  \n",
       "4  0.239913  0.365022  0.321053  0.646611  0.281889   Aaron_Sorkin  \n",
       "\n",
       "[5 rows x 32 columns]"
      ]
     },
     "execution_count": 20,
     "metadata": {},
     "output_type": "execute_result"
    }
   ],
   "source": [
    "data.head()"
   ]
  },
  {
   "cell_type": "code",
   "execution_count": 23,
   "metadata": {
    "scrolled": false
   },
   "outputs": [
    {
     "data": {
      "text/plain": [
       "1680"
      ]
     },
     "execution_count": 23,
     "metadata": {},
     "output_type": "execute_result"
    }
   ],
   "source": [
    "len(data.Nome.value_counts())"
   ]
  },
  {
   "cell_type": "markdown",
   "metadata": {},
   "source": [
    "Vemos que ele é desbalanceado em termos de pessoas"
   ]
  },
  {
   "cell_type": "code",
   "execution_count": 22,
   "metadata": {},
   "outputs": [
    {
     "data": {
      "text/plain": [
       "(9164, 32)"
      ]
     },
     "execution_count": 22,
     "metadata": {},
     "output_type": "execute_result"
    }
   ],
   "source": [
    "data.shape"
   ]
  },
  {
   "cell_type": "markdown",
   "metadata": {},
   "source": [
    "Temos 9164 imagens de 1680 pessoas diferentes, com 30 características"
   ]
  },
  {
   "cell_type": "code",
   "execution_count": 24,
   "metadata": {},
   "outputs": [
    {
     "data": {
      "text/plain": [
       "Index(['Unnamed: 0', '0', '1', '2', '3', '4', '5', '6', '7', '8', '9', '10',\n",
       "       '11', '12', '13', '14', '15', '16', '17', '18', '19', '20', '21', '22',\n",
       "       '23', '24', '25', '26', '27', '28', '29', 'Nome'],\n",
       "      dtype='object')"
      ]
     },
     "execution_count": 24,
     "metadata": {},
     "output_type": "execute_result"
    }
   ],
   "source": [
    "data.columns"
   ]
  },
  {
   "cell_type": "code",
   "execution_count": 25,
   "metadata": {},
   "outputs": [],
   "source": [
    "data = data.drop('Unnamed: 0', axis=1)"
   ]
  },
  {
   "cell_type": "code",
   "execution_count": 26,
   "metadata": {},
   "outputs": [
    {
     "data": {
      "text/plain": [
       "True"
      ]
     },
     "execution_count": 26,
     "metadata": {},
     "output_type": "execute_result"
    }
   ],
   "source": [
    "data.isnull().values.any()"
   ]
  },
  {
   "cell_type": "code",
   "execution_count": 32,
   "metadata": {},
   "outputs": [
    {
     "data": {
      "text/plain": [
       "(8238, 31)"
      ]
     },
     "execution_count": 32,
     "metadata": {},
     "output_type": "execute_result"
    }
   ],
   "source": [
    "data = data.dropna()"
   ]
  },
  {
   "cell_type": "markdown",
   "metadata": {},
   "source": [
    "## Abordagem"
   ]
  },
  {
   "cell_type": "markdown",
   "metadata": {},
   "source": [
    "A ideia inicial aqui será criar novas features, cada nova feature será o módulo da subtração das distâncias"
   ]
  },
  {
   "cell_type": "code",
   "execution_count": 28,
   "metadata": {},
   "outputs": [],
   "source": [
    "cols=['0', '1', '2', '3', '4', '5', '6', '7', '8', '9', '10',\n",
    "       '11', '12', '13', '14', '15', '16', '17', '18', '19', '20', '21', '22',\n",
    "       '23', '24', '25', '26', '27', '28', '29', 'Same']\n",
    "df = pd.DataFrame(columns=cols)"
   ]
  },
  {
   "cell_type": "markdown",
   "metadata": {},
   "source": [
    "### Vamos pegar os nomes únicos "
   ]
  },
  {
   "cell_type": "markdown",
   "metadata": {},
   "source": [
    "Pegando os nomes únicos podemos transformá los em valores numéricos para usar de Label"
   ]
  },
  {
   "cell_type": "code",
   "execution_count": 30,
   "metadata": {},
   "outputs": [],
   "source": [
    "names = pd.unique(data['Nome'])"
   ]
  },
  {
   "cell_type": "code",
   "execution_count": 34,
   "metadata": {},
   "outputs": [],
   "source": [
    "encoded_data = data.copy() \n",
    "uniques = len(data.Nome.value_counts()) #numero de nomes únicos\n",
    "encoded_data['Nome'].replace(names, np.arange(uniques), inplace=True) #Tokenizando os nomes"
   ]
  },
  {
   "cell_type": "code",
   "execution_count": 35,
   "metadata": {
    "scrolled": true
   },
   "outputs": [
    {
     "data": {
      "text/plain": [
       "array([[2.60142002e-01, 4.61829830e-02, 1.00000000e+00, ...,\n",
       "        6.54895569e-01, 3.02771735e-01, 0.00000000e+00],\n",
       "       [2.54773110e-01, 5.84466762e-02, 1.00000000e+00, ...,\n",
       "        6.69961043e-01, 2.80692127e-01, 0.00000000e+00],\n",
       "       [2.53176901e-01, 4.73057713e-02, 1.00000000e+00, ...,\n",
       "        6.26514952e-01, 2.95238825e-01, 0.00000000e+00],\n",
       "       ...,\n",
       "       [2.47418602e-01, 6.45187672e-02, 1.00000000e+00, ...,\n",
       "        6.85403163e-01, 2.98218311e-01, 1.66900000e+03],\n",
       "       [2.49118779e-01, 6.23825972e-02, 1.00000000e+00, ...,\n",
       "        7.25303734e-01, 2.88254858e-01, 1.66900000e+03],\n",
       "       [2.40977548e-01, 3.46110289e-02, 1.00000000e+00, ...,\n",
       "        6.43695094e-01, 2.79411246e-01, 1.66900000e+03]])"
      ]
     },
     "execution_count": 35,
     "metadata": {},
     "output_type": "execute_result"
    }
   ],
   "source": [
    "npdata = encoded_data.to_numpy()\n",
    "npdata"
   ]
  },
  {
   "cell_type": "code",
   "execution_count": 36,
   "metadata": {
    "scrolled": true
   },
   "outputs": [],
   "source": [
    "#Garantindo que não temos linhas com distâncias nulas, e deletando caso houverem\n",
    "\n",
    "for i in range(len(npdata)):\n",
    "    if np.count_nonzero(npdata[i]) < 5:\n",
    "        npdata = np.delete(npdata, i, 0)\n",
    "        print(\"Deleted row\", i)"
   ]
  },
  {
   "cell_type": "code",
   "execution_count": 37,
   "metadata": {
    "scrolled": true
   },
   "outputs": [
    {
     "data": {
      "text/plain": [
       "(8238, 31)"
      ]
     },
     "execution_count": 37,
     "metadata": {},
     "output_type": "execute_result"
    }
   ],
   "source": [
    "npdata.shape"
   ]
  },
  {
   "cell_type": "markdown",
   "metadata": {},
   "source": [
    "## Gerando o dataset "
   ]
  },
  {
   "cell_type": "markdown",
   "metadata": {},
   "source": [
    "A ideia aqui é fazer a diferença das distâncias faciais entre pessoas, e temos como parâmetros o número de pessoas diferentes que usaremos para "
   ]
  },
  {
   "cell_type": "code",
   "execution_count": 40,
   "metadata": {
    "scrolled": true
   },
   "outputs": [
    {
     "name": "stdout",
     "output_type": "stream",
     "text": [
      "98856\n"
     ]
    }
   ],
   "source": [
    "different = 11\n",
    "equals = 38\n",
    "shape = (npdata.shape[0]*(different+1), npdata.shape[1])\n",
    "npdf = np.zeros(shape)\n",
    "i = 0\n",
    "for first_row in (range(0, npdata.shape[0])):\n",
    "    numbers = np.array(random.sample(range(0,npdata.shape[0]),different))\n",
    "    numbers=numbers[numbers!=first_row]\n",
    "    equal = first_row+1\n",
    "    try:\n",
    "        while (npdata[first_row][-1] == npdata[equal][-1]) and (equal < first_row+equals):\n",
    "            numbers = np.append(numbers, equal)\n",
    "            equal+=1\n",
    "        for second_row in numbers:\n",
    "            npdf[i] = np.absolute(npdata[first_row] - npdata[second_row])\n",
    "            npdf[i][30] = int(npdf[i][30] == 0) #1 se corresponder a uma mesma pessoa\n",
    "            i += 1\n",
    "    except IndexError:\n",
    "        pass\n",
    "print(i)"
   ]
  },
  {
   "cell_type": "code",
   "execution_count": 41,
   "metadata": {
    "scrolled": true
   },
   "outputs": [
    {
     "data": {
      "text/plain": [
       "(98856, 31)"
      ]
     },
     "execution_count": 41,
     "metadata": {},
     "output_type": "execute_result"
    }
   ],
   "source": [
    "npdf.shape"
   ]
  },
  {
   "cell_type": "markdown",
   "metadata": {},
   "source": [
    "Garantir que não tem linhas nulas"
   ]
  },
  {
   "cell_type": "code",
   "execution_count": 42,
   "metadata": {
    "scrolled": true
   },
   "outputs": [
    {
     "name": "stdout",
     "output_type": "stream",
     "text": [
      "98856\n"
     ]
    }
   ],
   "source": [
    "lenght = len(npdf)\n",
    "print(lenght)\n",
    "i=0\n",
    "while i < lenght:\n",
    "    if np.count_nonzero(npdf[i]) < 20:\n",
    "        npdf = np.delete(npdf, i, 0)\n",
    "        print(\"Deleted row\", i)\n",
    "        lenght-=1\n",
    "        i-=1\n",
    "    i+=1"
   ]
  },
  {
   "cell_type": "code",
   "execution_count": 43,
   "metadata": {},
   "outputs": [
    {
     "data": {
      "text/plain": [
       "(98856, 31)"
      ]
     },
     "execution_count": 43,
     "metadata": {},
     "output_type": "execute_result"
    }
   ],
   "source": [
    "npdf.shape"
   ]
  },
  {
   "cell_type": "code",
   "execution_count": 44,
   "metadata": {},
   "outputs": [
    {
     "name": "stdout",
     "output_type": "stream",
     "text": [
      "0.5251578052925467\n"
     ]
    }
   ],
   "source": [
    "df = pd.DataFrame(npdf, columns=cols)\n",
    "print(df.Same.sum()/npdf.shape[0]) #calcula a razão de distâncias entre mesmas pessoas e pessoas diferentes\n",
    "                                   #o ideal é estar próximo de 50%"
   ]
  },
  {
   "cell_type": "code",
   "execution_count": 45,
   "metadata": {},
   "outputs": [
    {
     "data": {
      "text/html": [
       "<div>\n",
       "<style scoped>\n",
       "    .dataframe tbody tr th:only-of-type {\n",
       "        vertical-align: middle;\n",
       "    }\n",
       "\n",
       "    .dataframe tbody tr th {\n",
       "        vertical-align: top;\n",
       "    }\n",
       "\n",
       "    .dataframe thead th {\n",
       "        text-align: right;\n",
       "    }\n",
       "</style>\n",
       "<table border=\"1\" class=\"dataframe\">\n",
       "  <thead>\n",
       "    <tr style=\"text-align: right;\">\n",
       "      <th></th>\n",
       "      <th>0</th>\n",
       "      <th>1</th>\n",
       "      <th>2</th>\n",
       "      <th>3</th>\n",
       "      <th>4</th>\n",
       "      <th>5</th>\n",
       "      <th>6</th>\n",
       "      <th>7</th>\n",
       "      <th>8</th>\n",
       "      <th>9</th>\n",
       "      <th>...</th>\n",
       "      <th>21</th>\n",
       "      <th>22</th>\n",
       "      <th>23</th>\n",
       "      <th>24</th>\n",
       "      <th>25</th>\n",
       "      <th>26</th>\n",
       "      <th>27</th>\n",
       "      <th>28</th>\n",
       "      <th>29</th>\n",
       "      <th>Same</th>\n",
       "    </tr>\n",
       "  </thead>\n",
       "  <tbody>\n",
       "    <tr>\n",
       "      <th>0</th>\n",
       "      <td>0.011618</td>\n",
       "      <td>0.006596</td>\n",
       "      <td>0.0</td>\n",
       "      <td>0.031828</td>\n",
       "      <td>0.030364</td>\n",
       "      <td>0.042268</td>\n",
       "      <td>0.005010</td>\n",
       "      <td>0.019889</td>\n",
       "      <td>0.046643</td>\n",
       "      <td>0.013459</td>\n",
       "      <td>...</td>\n",
       "      <td>0.066967</td>\n",
       "      <td>0.045196</td>\n",
       "      <td>0.022176</td>\n",
       "      <td>0.024266</td>\n",
       "      <td>0.026440</td>\n",
       "      <td>0.014271</td>\n",
       "      <td>0.030155</td>\n",
       "      <td>0.137545</td>\n",
       "      <td>0.007001</td>\n",
       "      <td>0.0</td>\n",
       "    </tr>\n",
       "    <tr>\n",
       "      <th>1</th>\n",
       "      <td>0.029422</td>\n",
       "      <td>0.019836</td>\n",
       "      <td>0.0</td>\n",
       "      <td>0.029929</td>\n",
       "      <td>0.001777</td>\n",
       "      <td>0.023209</td>\n",
       "      <td>0.007608</td>\n",
       "      <td>0.033968</td>\n",
       "      <td>0.028381</td>\n",
       "      <td>0.000312</td>\n",
       "      <td>...</td>\n",
       "      <td>0.016039</td>\n",
       "      <td>0.010404</td>\n",
       "      <td>0.000818</td>\n",
       "      <td>0.033833</td>\n",
       "      <td>0.014483</td>\n",
       "      <td>0.039057</td>\n",
       "      <td>0.008691</td>\n",
       "      <td>0.103715</td>\n",
       "      <td>0.073112</td>\n",
       "      <td>0.0</td>\n",
       "    </tr>\n",
       "    <tr>\n",
       "      <th>2</th>\n",
       "      <td>0.027715</td>\n",
       "      <td>0.003696</td>\n",
       "      <td>0.0</td>\n",
       "      <td>0.032814</td>\n",
       "      <td>0.008061</td>\n",
       "      <td>0.015054</td>\n",
       "      <td>0.060986</td>\n",
       "      <td>0.005203</td>\n",
       "      <td>0.107435</td>\n",
       "      <td>0.008372</td>\n",
       "      <td>...</td>\n",
       "      <td>0.029074</td>\n",
       "      <td>0.002087</td>\n",
       "      <td>0.003232</td>\n",
       "      <td>0.045191</td>\n",
       "      <td>0.039699</td>\n",
       "      <td>0.041760</td>\n",
       "      <td>0.016461</td>\n",
       "      <td>0.146019</td>\n",
       "      <td>0.092469</td>\n",
       "      <td>0.0</td>\n",
       "    </tr>\n",
       "    <tr>\n",
       "      <th>3</th>\n",
       "      <td>0.030032</td>\n",
       "      <td>0.012839</td>\n",
       "      <td>0.0</td>\n",
       "      <td>0.001186</td>\n",
       "      <td>0.032717</td>\n",
       "      <td>0.022119</td>\n",
       "      <td>0.009380</td>\n",
       "      <td>0.031991</td>\n",
       "      <td>0.082720</td>\n",
       "      <td>0.010181</td>\n",
       "      <td>...</td>\n",
       "      <td>0.075512</td>\n",
       "      <td>0.045129</td>\n",
       "      <td>0.009501</td>\n",
       "      <td>0.010834</td>\n",
       "      <td>0.013079</td>\n",
       "      <td>0.129900</td>\n",
       "      <td>0.047161</td>\n",
       "      <td>0.035075</td>\n",
       "      <td>0.095810</td>\n",
       "      <td>0.0</td>\n",
       "    </tr>\n",
       "    <tr>\n",
       "      <th>4</th>\n",
       "      <td>0.019439</td>\n",
       "      <td>0.001905</td>\n",
       "      <td>0.0</td>\n",
       "      <td>0.002812</td>\n",
       "      <td>0.048333</td>\n",
       "      <td>0.035985</td>\n",
       "      <td>0.067917</td>\n",
       "      <td>0.026699</td>\n",
       "      <td>0.068736</td>\n",
       "      <td>0.005116</td>\n",
       "      <td>...</td>\n",
       "      <td>0.011556</td>\n",
       "      <td>0.027337</td>\n",
       "      <td>0.005954</td>\n",
       "      <td>0.000767</td>\n",
       "      <td>0.008080</td>\n",
       "      <td>0.027257</td>\n",
       "      <td>0.028173</td>\n",
       "      <td>0.112936</td>\n",
       "      <td>0.081054</td>\n",
       "      <td>0.0</td>\n",
       "    </tr>\n",
       "    <tr>\n",
       "      <th>5</th>\n",
       "      <td>0.009550</td>\n",
       "      <td>0.005331</td>\n",
       "      <td>0.0</td>\n",
       "      <td>0.018889</td>\n",
       "      <td>0.052916</td>\n",
       "      <td>0.033659</td>\n",
       "      <td>0.011292</td>\n",
       "      <td>0.042594</td>\n",
       "      <td>0.032687</td>\n",
       "      <td>0.020805</td>\n",
       "      <td>...</td>\n",
       "      <td>0.054443</td>\n",
       "      <td>0.107920</td>\n",
       "      <td>0.022037</td>\n",
       "      <td>0.011406</td>\n",
       "      <td>0.010179</td>\n",
       "      <td>0.029000</td>\n",
       "      <td>0.008177</td>\n",
       "      <td>0.080065</td>\n",
       "      <td>0.072329</td>\n",
       "      <td>0.0</td>\n",
       "    </tr>\n",
       "    <tr>\n",
       "      <th>6</th>\n",
       "      <td>0.014890</td>\n",
       "      <td>0.005718</td>\n",
       "      <td>0.0</td>\n",
       "      <td>0.026704</td>\n",
       "      <td>0.003878</td>\n",
       "      <td>0.024766</td>\n",
       "      <td>0.073050</td>\n",
       "      <td>0.043173</td>\n",
       "      <td>0.076385</td>\n",
       "      <td>0.000357</td>\n",
       "      <td>...</td>\n",
       "      <td>0.001069</td>\n",
       "      <td>0.027528</td>\n",
       "      <td>0.011568</td>\n",
       "      <td>0.000156</td>\n",
       "      <td>0.000643</td>\n",
       "      <td>0.047539</td>\n",
       "      <td>0.018716</td>\n",
       "      <td>0.014801</td>\n",
       "      <td>0.069034</td>\n",
       "      <td>0.0</td>\n",
       "    </tr>\n",
       "    <tr>\n",
       "      <th>7</th>\n",
       "      <td>0.036867</td>\n",
       "      <td>0.004528</td>\n",
       "      <td>0.0</td>\n",
       "      <td>0.009381</td>\n",
       "      <td>0.041931</td>\n",
       "      <td>0.011583</td>\n",
       "      <td>0.052277</td>\n",
       "      <td>0.030605</td>\n",
       "      <td>0.051092</td>\n",
       "      <td>0.008135</td>\n",
       "      <td>...</td>\n",
       "      <td>0.043212</td>\n",
       "      <td>0.039811</td>\n",
       "      <td>0.008708</td>\n",
       "      <td>0.042940</td>\n",
       "      <td>0.028265</td>\n",
       "      <td>0.001403</td>\n",
       "      <td>0.047856</td>\n",
       "      <td>0.128688</td>\n",
       "      <td>0.035186</td>\n",
       "      <td>0.0</td>\n",
       "    </tr>\n",
       "    <tr>\n",
       "      <th>8</th>\n",
       "      <td>0.002090</td>\n",
       "      <td>0.017809</td>\n",
       "      <td>0.0</td>\n",
       "      <td>0.019129</td>\n",
       "      <td>0.033702</td>\n",
       "      <td>0.007730</td>\n",
       "      <td>0.061032</td>\n",
       "      <td>0.017562</td>\n",
       "      <td>0.065457</td>\n",
       "      <td>0.006626</td>\n",
       "      <td>...</td>\n",
       "      <td>0.020322</td>\n",
       "      <td>0.039247</td>\n",
       "      <td>0.011038</td>\n",
       "      <td>0.035770</td>\n",
       "      <td>0.011425</td>\n",
       "      <td>0.002717</td>\n",
       "      <td>0.042745</td>\n",
       "      <td>0.166522</td>\n",
       "      <td>0.030239</td>\n",
       "      <td>0.0</td>\n",
       "    </tr>\n",
       "    <tr>\n",
       "      <th>9</th>\n",
       "      <td>0.029701</td>\n",
       "      <td>0.010335</td>\n",
       "      <td>0.0</td>\n",
       "      <td>0.050843</td>\n",
       "      <td>0.016142</td>\n",
       "      <td>0.051884</td>\n",
       "      <td>0.044677</td>\n",
       "      <td>0.055251</td>\n",
       "      <td>0.055342</td>\n",
       "      <td>0.017585</td>\n",
       "      <td>...</td>\n",
       "      <td>0.044068</td>\n",
       "      <td>0.040511</td>\n",
       "      <td>0.012645</td>\n",
       "      <td>0.000358</td>\n",
       "      <td>0.009511</td>\n",
       "      <td>0.076452</td>\n",
       "      <td>0.017252</td>\n",
       "      <td>0.006989</td>\n",
       "      <td>0.141375</td>\n",
       "      <td>0.0</td>\n",
       "    </tr>\n",
       "  </tbody>\n",
       "</table>\n",
       "<p>10 rows × 31 columns</p>\n",
       "</div>"
      ],
      "text/plain": [
       "          0         1    2         3         4         5         6         7  \\\n",
       "0  0.011618  0.006596  0.0  0.031828  0.030364  0.042268  0.005010  0.019889   \n",
       "1  0.029422  0.019836  0.0  0.029929  0.001777  0.023209  0.007608  0.033968   \n",
       "2  0.027715  0.003696  0.0  0.032814  0.008061  0.015054  0.060986  0.005203   \n",
       "3  0.030032  0.012839  0.0  0.001186  0.032717  0.022119  0.009380  0.031991   \n",
       "4  0.019439  0.001905  0.0  0.002812  0.048333  0.035985  0.067917  0.026699   \n",
       "5  0.009550  0.005331  0.0  0.018889  0.052916  0.033659  0.011292  0.042594   \n",
       "6  0.014890  0.005718  0.0  0.026704  0.003878  0.024766  0.073050  0.043173   \n",
       "7  0.036867  0.004528  0.0  0.009381  0.041931  0.011583  0.052277  0.030605   \n",
       "8  0.002090  0.017809  0.0  0.019129  0.033702  0.007730  0.061032  0.017562   \n",
       "9  0.029701  0.010335  0.0  0.050843  0.016142  0.051884  0.044677  0.055251   \n",
       "\n",
       "          8         9  ...        21        22        23        24        25  \\\n",
       "0  0.046643  0.013459  ...  0.066967  0.045196  0.022176  0.024266  0.026440   \n",
       "1  0.028381  0.000312  ...  0.016039  0.010404  0.000818  0.033833  0.014483   \n",
       "2  0.107435  0.008372  ...  0.029074  0.002087  0.003232  0.045191  0.039699   \n",
       "3  0.082720  0.010181  ...  0.075512  0.045129  0.009501  0.010834  0.013079   \n",
       "4  0.068736  0.005116  ...  0.011556  0.027337  0.005954  0.000767  0.008080   \n",
       "5  0.032687  0.020805  ...  0.054443  0.107920  0.022037  0.011406  0.010179   \n",
       "6  0.076385  0.000357  ...  0.001069  0.027528  0.011568  0.000156  0.000643   \n",
       "7  0.051092  0.008135  ...  0.043212  0.039811  0.008708  0.042940  0.028265   \n",
       "8  0.065457  0.006626  ...  0.020322  0.039247  0.011038  0.035770  0.011425   \n",
       "9  0.055342  0.017585  ...  0.044068  0.040511  0.012645  0.000358  0.009511   \n",
       "\n",
       "         26        27        28        29  Same  \n",
       "0  0.014271  0.030155  0.137545  0.007001   0.0  \n",
       "1  0.039057  0.008691  0.103715  0.073112   0.0  \n",
       "2  0.041760  0.016461  0.146019  0.092469   0.0  \n",
       "3  0.129900  0.047161  0.035075  0.095810   0.0  \n",
       "4  0.027257  0.028173  0.112936  0.081054   0.0  \n",
       "5  0.029000  0.008177  0.080065  0.072329   0.0  \n",
       "6  0.047539  0.018716  0.014801  0.069034   0.0  \n",
       "7  0.001403  0.047856  0.128688  0.035186   0.0  \n",
       "8  0.002717  0.042745  0.166522  0.030239   0.0  \n",
       "9  0.076452  0.017252  0.006989  0.141375   0.0  \n",
       "\n",
       "[10 rows x 31 columns]"
      ]
     },
     "execution_count": 45,
     "metadata": {},
     "output_type": "execute_result"
    }
   ],
   "source": [
    "df.head(10)"
   ]
  },
  {
   "cell_type": "code",
   "execution_count": null,
   "metadata": {},
   "outputs": [],
   "source": [
    "df.to_csv('facial_differences.csv', index=False)"
   ]
  },
  {
   "cell_type": "markdown",
   "metadata": {},
   "source": [
    "## Modelo "
   ]
  },
  {
   "cell_type": "markdown",
   "metadata": {},
   "source": [
    "Dividir em treino e teste"
   ]
  },
  {
   "cell_type": "code",
   "execution_count": 46,
   "metadata": {},
   "outputs": [],
   "source": [
    "from sklearn.model_selection import train_test_split\n",
    "\n",
    "train_y = df.Same\n",
    "train_x = df.drop(['Same'], axis=1)\n",
    "\n",
    "X_train, X_test, y_train, y_test = train_test_split(train_x, train_y, test_size=0.25, random_state=42)"
   ]
  },
  {
   "cell_type": "markdown",
   "metadata": {},
   "source": [
    "### Tentativa inicial com regressão logística "
   ]
  },
  {
   "cell_type": "code",
   "execution_count": 47,
   "metadata": {
    "scrolled": true
   },
   "outputs": [
    {
     "data": {
      "text/plain": [
       "0.7108116856842276"
      ]
     },
     "execution_count": 47,
     "metadata": {},
     "output_type": "execute_result"
    }
   ],
   "source": [
    "from sklearn.linear_model import LogisticRegression\n",
    "\n",
    "lrc = LogisticRegression().fit(X_train, y_train)\n",
    "lrc.score(X_test, y_test)"
   ]
  },
  {
   "cell_type": "markdown",
   "metadata": {},
   "source": [
    "### Tentativa com Gradient Boosting "
   ]
  },
  {
   "cell_type": "code",
   "execution_count": 50,
   "metadata": {},
   "outputs": [],
   "source": [
    "from sklearn.preprocessing import StandardScaler\n",
    "scaler = StandardScaler()\n",
    "scaler.fit(X_train)\n",
    "stdX_train = scaler.transform(X_train)\n",
    "stdX_test = scaler.transform(X_test)"
   ]
  },
  {
   "cell_type": "code",
   "execution_count": 28,
   "metadata": {},
   "outputs": [
    {
     "data": {
      "text/plain": [
       "GradientBoostingClassifier(ccp_alpha=0.0, criterion='friedman_mse', init=None,\n",
       "                           learning_rate=0.1, loss='deviance', max_depth=None,\n",
       "                           max_features=None, max_leaf_nodes=4,\n",
       "                           min_impurity_decrease=0.0, min_impurity_split=None,\n",
       "                           min_samples_leaf=1, min_samples_split=5,\n",
       "                           min_weight_fraction_leaf=0.0, n_estimators=1000,\n",
       "                           n_iter_no_change=None, presort='deprecated',\n",
       "                           random_state=2, subsample=1.0, tol=0.0001,\n",
       "                           validation_fraction=0.1, verbose=0,\n",
       "                           warm_start=False)"
      ]
     },
     "execution_count": 28,
     "metadata": {},
     "output_type": "execute_result"
    }
   ],
   "source": [
    "from sklearn import ensemble\n",
    "original_params = {'n_estimators': 1000, 'max_leaf_nodes': 4, 'max_depth': None, 'random_state': 2,\n",
    "                   'min_samples_split': 5}\n",
    "params=dict(original_params)\n",
    "clf = ensemble.GradientBoostingClassifier(**params)\n",
    "clf.fit(X_train, y_train)"
   ]
  },
  {
   "cell_type": "code",
   "execution_count": 29,
   "metadata": {
    "scrolled": true
   },
   "outputs": [
    {
     "data": {
      "text/plain": [
       "0.7529675072938732"
      ]
     },
     "execution_count": 29,
     "metadata": {},
     "output_type": "execute_result"
    }
   ],
   "source": [
    "clf.score(X_test, y_test)"
   ]
  },
  {
   "cell_type": "code",
   "execution_count": null,
   "metadata": {},
   "outputs": [],
   "source": [
    "from sklearn import ensemble\n",
    "original_params = {'n_estimators': 1000, 'max_leaf_nodes': 4, 'max_depth': None, 'random_state': 2,\n",
    "                   'min_samples_split': 5}\n",
    "params=dict(original_params)\n",
    "std_clf = ensemble.GradientBoostingClassifier(**params)\n",
    "std_clf.fit(stdX_train, y_train)"
   ]
  },
  {
   "cell_type": "code",
   "execution_count": null,
   "metadata": {},
   "outputs": [],
   "source": [
    "std_clf.score(stdX_test, y_test)"
   ]
  },
  {
   "cell_type": "markdown",
   "metadata": {},
   "source": [
    "### Salvando o modelo em um pickle "
   ]
  },
  {
   "cell_type": "markdown",
   "metadata": {},
   "source": [
    "<img src=\"https://i.ytimg.com/vi/tZp8sY06Qoc/maxresdefault.jpg\" width=50%>"
   ]
  },
  {
   "cell_type": "code",
   "execution_count": 56,
   "metadata": {},
   "outputs": [],
   "source": [
    "import pickle\n",
    "#save the model to disk\n",
    "filename = 'gradient_boosting_faces_clf.sav'\n",
    "pickle.dump(clf, open(filename, 'wb'))"
   ]
  },
  {
   "cell_type": "markdown",
   "metadata": {},
   "source": [
    "Se quiser carregar o modelo salvo, descomentar o código abaixo"
   ]
  },
  {
   "cell_type": "markdown",
   "metadata": {},
   "source": [
    "#load the model from disk\n",
    "loaded_model = pickle.load(open(filename, 'rb'))"
   ]
  },
  {
   "cell_type": "markdown",
   "metadata": {},
   "source": [
    "## Testando com o dataset do Turing "
   ]
  },
  {
   "cell_type": "code",
   "execution_count": 44,
   "metadata": {
    "scrolled": true
   },
   "outputs": [
    {
     "data": {
      "text/plain": [
       "Index(['Unnamed: 0', 'nome', '0', '1', '2', '3', '4', '5', '6', '7', '8', '9',\n",
       "       '10', '11', '12', '13', '14', '15', '16', '17', '18', '19', '20', '21',\n",
       "       '22', '23', '24', '25', '26', '27', '28', '29'],\n",
       "      dtype='object')"
      ]
     },
     "execution_count": 44,
     "metadata": {},
     "output_type": "execute_result"
    }
   ],
   "source": [
    "test_data.columns"
   ]
  },
  {
   "cell_type": "code",
   "execution_count": 45,
   "metadata": {},
   "outputs": [],
   "source": [
    "test_data = test_data.drop('Unnamed: 0', axis=1)"
   ]
  },
  {
   "cell_type": "code",
   "execution_count": 46,
   "metadata": {},
   "outputs": [
    {
     "data": {
      "text/plain": [
       "Edu       4\n",
       "Azank     3\n",
       "Mura      2\n",
       "Cola      2\n",
       "Enzo      2\n",
       "Paulo     2\n",
       "Ariel     2\n",
       "Noel      2\n",
       "Nelson    2\n",
       "Fill      2\n",
       "Luisa     2\n",
       "Gui       2\n",
       "Camila    2\n",
       "Koji      1\n",
       "Victor    1\n",
       "Name: nome, dtype: int64"
      ]
     },
     "execution_count": 46,
     "metadata": {},
     "output_type": "execute_result"
    }
   ],
   "source": [
    "test_data.nome.value_counts()"
   ]
  },
  {
   "cell_type": "code",
   "execution_count": 47,
   "metadata": {},
   "outputs": [],
   "source": [
    "cols=['0', '1', '2', '3', '4', '5', '6', '7', '8', '9', '10',\n",
    "       '11', '12', '13', '14', '15', '16', '17', '18', '19', '20', '21', '22',\n",
    "       '23', '24', '25', '26', '27', '28', '29', 'Same']\n",
    "df2 = pd.DataFrame(columns=cols)"
   ]
  },
  {
   "cell_type": "code",
   "execution_count": 48,
   "metadata": {},
   "outputs": [],
   "source": [
    "names2 = pd.unique(test_data['nome'])"
   ]
  },
  {
   "cell_type": "code",
   "execution_count": 49,
   "metadata": {},
   "outputs": [],
   "source": [
    "encoded_data2 = test_data.copy()\n",
    "encoded_data2['nome'].replace(names2, np.arange(15), inplace=True)"
   ]
  },
  {
   "cell_type": "code",
   "execution_count": 50,
   "metadata": {
    "scrolled": true
   },
   "outputs": [
    {
     "data": {
      "text/plain": [
       "array([[ 0.        ,  0.25428366,  0.03542707,  1.        ,  0.97753248,\n",
       "         0.85326208,  0.52004198,  0.34309569,  0.30581136,  0.35610583,\n",
       "         0.05084665,  0.07344516,  0.28253786,  0.13570871,  0.22040789,\n",
       "         0.37890446,  0.40906189,  0.40369374,  0.27777036,  0.14169193,\n",
       "         0.92340848,  0.49338408,  0.28143276,  0.28904331, -0.06497071,\n",
       "         0.28385856,  0.25124176,  0.29312802,  0.29055787,  0.7035968 ,\n",
       "         0.29812617],\n",
       "       [ 1.        ,  0.2751719 ,  0.04408635,  1.        ,  0.90957254,\n",
       "         0.74695803,  0.43989212,  0.21818622,  0.21160113,  0.39760714,\n",
       "         0.03614196,  0.07830757,  0.19878075,  0.10240221,  0.25299369,\n",
       "         0.43693777,  0.40197664,  0.39116553,  0.34987197,  0.17478994,\n",
       "         0.87144679,  0.53934632,  0.16460125,  0.18674958, -0.06324842,\n",
       "         0.3058034 ,  0.26858402,  0.38706405,  0.38706405,  0.71651187,\n",
       "         0.27814753],\n",
       "       [ 1.        ,  0.28399087,  0.04796744,  1.        ,  0.97422697,\n",
       "         0.85961725,  0.51579551,  0.24726356,  0.2613722 ,  0.45226192,\n",
       "         0.05093888,  0.09551041,  0.23636548,  0.10843224,  0.23567837,\n",
       "         0.40187781,  0.41589144,  0.42903825,  0.34795839,  0.10207655,\n",
       "         0.9385079 ,  0.57950864,  0.18717578,  0.16846771, -0.06048992,\n",
       "         0.31414041,  0.29310013,  0.3913726 ,  0.3913726 ,  0.78618813,\n",
       "         0.23381754],\n",
       "       [ 2.        ,  0.30683454,  0.05529031,  1.        ,  0.97560353,\n",
       "         0.84668241,  0.51528667,  0.27079758,  0.27328708,  0.41097334,\n",
       "         0.06747324,  0.09833439,  0.25762508,  0.09833439,  0.23308936,\n",
       "         0.41135479,  0.40171311,  0.39900024,  0.36553941,  0.17175005,\n",
       "         0.94810357,  0.52710696,  0.26644727,  0.26994404, -0.0705402 ,\n",
       "         0.29016357,  0.27037806,  0.36808694,  0.3549739 ,  0.7531303 ,\n",
       "         0.24553841],\n",
       "       [ 2.        ,  0.31341839,  0.07374583,  1.        ,  0.96317206,\n",
       "         0.82227642,  0.49094166,  0.25516863,  0.24121759,  0.41717006,\n",
       "         0.06134854,  0.07361825,  0.25152901,  0.09283719,  0.2395737 ,\n",
       "         0.39972009,  0.39234579,  0.40991953,  0.37163493,  0.17177591,\n",
       "         0.90849479,  0.55623072,  0.29844179,  0.28620863, -0.07668567,\n",
       "         0.31545984,  0.29181155,  0.38055879,  0.37058783,  0.7511549 ,\n",
       "         0.24608357],\n",
       "       [ 3.        ,  0.29556772,  0.07477953,  1.        ,  0.92563858,\n",
       "         0.79528111,  0.47200862,  0.22442453,  0.22605113,  0.35403029,\n",
       "         0.04968082,  0.06859282,  0.23606558,  0.13055992,  0.20502744,\n",
       "         0.40188258,  0.38664857,  0.36521367,  0.33937837,  0.16158204,\n",
       "         0.81381706,  0.51315212,  0.23243767,  0.18963716, -0.06520607,\n",
       "         0.2917396 ,  0.26273279,  0.34019799,  0.35830729,  0.76348404,\n",
       "         0.26468762],\n",
       "       [ 3.        ,  0.25324324,  0.04022664,  1.        ,  0.96292333,\n",
       "         0.83557198,  0.4925877 ,  0.30862305,  0.24658057,  0.33900839,\n",
       "         0.04755086,  0.07749843,  0.2971929 ,  0.13089989,  0.1902963 ,\n",
       "         0.37597199,  0.38568925,  0.39427129,  0.31225895,  0.13722462,\n",
       "         0.93487768,  0.49459747,  0.24436889,  0.23580773, -0.06538244,\n",
       "         0.28460592,  0.24908053,  0.37105101,  0.29849768,  0.75822441,\n",
       "         0.25562042],\n",
       "       [ 3.        ,  0.29403273,  0.06867294,  1.        ,  0.94290699,\n",
       "         0.8025148 ,  0.47759449,  0.23968694,  0.23481665,  0.35662904,\n",
       "         0.03820416,  0.0636736 ,  0.26106178,  0.13371457,  0.203855  ,\n",
       "         0.41126678,  0.39417374,  0.3916679 ,  0.34192215,  0.14644929,\n",
       "         0.8514595 ,  0.54301168,  0.22081175,  0.20397937, -0.08595937,\n",
       "         0.31717482,  0.28978676,  0.35474828,  0.3731295 ,  0.78223069,\n",
       "         0.2597441 ],\n",
       "       [ 3.        ,  0.25701376,  0.02850511,  1.        ,  0.98632752,\n",
       "         0.85104959,  0.49909034,  0.30452664,  0.35349038,  0.51952401,\n",
       "         0.04178974,  0.05372967,  0.29873686,  0.0778388 ,  0.23887314,\n",
       "         0.40367797,  0.39418706,  0.41550556,  0.30220787,  0.16715897,\n",
       "         0.85055748,  0.5307051 ,  0.26215883,  0.26353624, -0.07462454,\n",
       "         0.30537947,  0.27973204,  0.30592784,  0.35268286,  0.65028298,\n",
       "         0.31761914],\n",
       "       [ 4.        ,  0.25810647,  0.04520216,  1.        ,  1.00005378,\n",
       "         0.88022374,  0.51499564,  0.27184086,  0.27550924,  0.47304541,\n",
       "         0.02395167,  0.04191542,  0.29395731,  0.07784292,  0.23951666,\n",
       "         0.39231138,  0.40316804,  0.42248797,  0.31826501,  0.10197054,\n",
       "         0.91802784,  0.55769651,  0.23063051,  0.2277181 , -0.07784292,\n",
       "         0.32096853,  0.28255381,  0.38369418,  0.37918219,  0.65306672,\n",
       "         0.2811765 ],\n",
       "       [ 4.        ,  0.26463217,  0.06242313,  1.        ,  0.97533329,\n",
       "         0.84474333,  0.51552795,  0.26888026,  0.27420795,  0.42236025,\n",
       "         0.03778113,  0.0621118 ,  0.31111751,  0.11180124,  0.23602485,\n",
       "         0.4198312 ,  0.42789669,  0.42946312,  0.33078048,  0.16161008,\n",
       "         0.92670516,  0.52249278,  0.25409499,  0.22192652, -0.0621118 ,\n",
       "         0.29082431,  0.26988955,  0.380913  ,  0.37602015,  0.76006346,\n",
       "         0.27034858],\n",
       "       [ 5.        ,  0.26223667,  0.03084644,  1.        ,  0.97325519,\n",
       "         0.82842993,  0.49499866,  0.33395336,  0.28004636,  0.41806757,\n",
       "         0.040681  ,  0.0748894 ,  0.25764636,  0.06813984,  0.23300507,\n",
       "         0.34945594,  0.34907296,  0.34446854,  0.29458761,  0.08917918,\n",
       "         0.91465342,  0.52069906,  0.21766034,  0.2284112 , -0.08136201,\n",
       "         0.29219986,  0.27301724,  0.37068361,  0.3010883 ,  0.67867786,\n",
       "         0.28990042],\n",
       "       [ 5.        ,  0.25264729,  0.05395003,  1.        ,  0.93403843,\n",
       "         0.77996691,  0.44746579,  0.25579916,  0.23367261,  0.31083038,\n",
       "         0.04030569,  0.07419848,  0.25535775,  0.09428622,  0.2019758 ,\n",
       "         0.39915502,  0.36599952,  0.3526748 ,  0.31415861,  0.14915526,\n",
       "         0.80969901,  0.50790444,  0.20218218,  0.2063162 , -0.07725258,\n",
       "         0.28582787,  0.27363705,  0.35495462,  0.35066981,  0.73354431,\n",
       "         0.29002746],\n",
       "       [ 5.        ,  0.27965295,  0.02965629,  1.        ,  0.95652346,\n",
       "         0.75815653,  0.42239777,  0.30045101,  0.30535432,  0.48462194,\n",
       "         0.02484424,  0.0621106 ,  0.20534107,  0.05624354,  0.26086453,\n",
       "         0.4266057 ,  0.41672542,  0.41473562,  0.33873298,  0.19885095,\n",
       "         0.9196177 ,  0.4839272 ,  0.20049698,  0.25223907, -0.06832166,\n",
       "         0.28395311,  0.25166905,  0.38986465,  0.38105754,  0.65604257,\n",
       "         0.2584159 ],\n",
       "       [ 6.        ,  0.30008811,  0.04847684,  1.        ,  0.93955141,\n",
       "         0.79417816,  0.47886214,  0.26231859,  0.25435907,  0.3938743 ,\n",
       "         0.04241723,  0.08483446,  0.27900515,  0.13950257,  0.21208616,\n",
       "         0.45070812,  0.42262722,  0.41948766,  0.36392035,  0.22420537,\n",
       "         0.93075901,  0.53481655,  0.29199389,  0.31979603, -0.08786427,\n",
       "         0.31158549,  0.28440926,  0.37948803,  0.38156267,  0.80576723,\n",
       "         0.25847097],\n",
       "       [ 6.        ,  0.27290213,  0.04341317,  1.        ,  0.94029138,\n",
       "         0.79123529,  0.4674112 ,  0.24019367,  0.24616533,  0.3714506 ,\n",
       "         0.03592814,  0.06613989,  0.27111932,  0.13173653,  0.19760479,\n",
       "         0.43317041,  0.40180082,  0.40266103,  0.34809352,  0.22163779,\n",
       "         0.8951636 ,  0.50322834,  0.25980063,  0.27479746, -0.08383233,\n",
       "         0.28904247,  0.26711683,  0.37705536,  0.37918899,  0.77906954,\n",
       "         0.27853665],\n",
       "       [ 7.        ,  0.31136515,  0.06444502,  1.        ,  0.95618938,\n",
       "         0.82450223,  0.4970562 ,  0.26881505,  0.2854332 ,  0.40867573,\n",
       "         0.05658587,  0.08802246,  0.2829992 ,  0.13218331,  0.21386128,\n",
       "         0.45130992,  0.42485237,  0.3985391 ,  0.34904144,  0.13846384,\n",
       "         0.88772815,  0.56525393,  0.26163793,  0.28308649, -0.07859149,\n",
       "         0.3240994 ,  0.29760432,  0.33006927,  0.34585969,  0.78031849,\n",
       "         0.25643099],\n",
       "       [ 7.        ,  0.3083616 ,  0.06937441,  1.        ,  0.95618938,\n",
       "         0.83052127,  0.50333905,  0.27297393,  0.27842247,  0.40243753,\n",
       "         0.06287319,  0.08197661,  0.28355739,  0.13218331,  0.19500827,\n",
       "         0.44254467,  0.41939671,  0.3981711 ,  0.36219104,  0.15089565,\n",
       "         0.90354506,  0.56256312,  0.27360286,  0.27994464, -0.06916051,\n",
       "         0.31955948,  0.28870835,  0.34003876,  0.34870539,  0.78132704,\n",
       "         0.24960799],\n",
       "       [ 8.        ,  0.28097568,  0.04696567,  1.        ,  0.97704581,\n",
       "         0.89011919,  0.55706167,  0.3201454 ,  0.29368139,  0.43875241,\n",
       "         0.05847953,  0.07602339,  0.29824561,  0.09941521,  0.19891639,\n",
       "         0.36591918,  0.3739997 ,  0.3727811 ,  0.33151848,  0.14144312,\n",
       "         0.86511295,  0.53482261,  0.29265133,  0.30151329, -0.07602339,\n",
       "         0.30065453,  0.28724124,  0.33018934,  0.33018934,  0.74442248,\n",
       "         0.30737258],\n",
       "       [ 8.        ,  0.29416359,  0.05302262,  1.        ,  0.98279314,\n",
       "         0.8833132 ,  0.55959699,  0.30246965,  0.2853396 ,  0.41781273,\n",
       "         0.07058823,  0.08843115,  0.28259793,  0.08843115,  0.20008649,\n",
       "         0.37675801,  0.36628757,  0.36525707,  0.33026752,  0.11896323,\n",
       "         0.86521815,  0.5417384 ,  0.29969517,  0.30600968, -0.08529412,\n",
       "         0.30760573,  0.2930595 ,  0.32132942,  0.32224343,  0.74031043,\n",
       "         0.29867191],\n",
       "       [ 9.        ,  0.29521235,  0.07054119,  1.        ,  0.98007906,\n",
       "         0.83634107,  0.50979729,  0.24411975,  0.23457766,  0.39207736,\n",
       "         0.04573601,  0.07840458,  0.24836713,  0.11778823,  0.22214632,\n",
       "         0.39226214,  0.39399968,  0.39859551,  0.36420534,  0.17653126,\n",
       "         0.91535843,  0.5321922 ,  0.26348825,  0.23534981, -0.07513773,\n",
       "         0.29798571,  0.27639588,  0.39807434,  0.39076861,  0.81337775,\n",
       "         0.2458572 ],\n",
       "       [ 9.        ,  0.29598926,  0.07711671,  1.        ,  0.97429999,\n",
       "         0.80765137,  0.48713945,  0.2597325 ,  0.25292049,  0.37817405,\n",
       "         0.05127784,  0.08973621,  0.25129083,  0.10915376,  0.19229189,\n",
       "         0.38826517,  0.39964972,  0.38434614,  0.35553722,  0.19870162,\n",
       "         0.91658882,  0.49339776,  0.28683093,  0.24696206, -0.06730216,\n",
       "         0.27061144,  0.25658947,  0.38724529,  0.37511981,  0.7910496 ,\n",
       "         0.25190464],\n",
       "       [10.        ,  0.2760348 ,  0.05115723,  1.        ,  0.95239704,\n",
       "         0.82070887,  0.47937862,  0.20647832,  0.21398285,  0.35349634,\n",
       "         0.05389222,  0.07185629,  0.21565201,  0.11440104,  0.20958084,\n",
       "         0.40314039,  0.36732172,  0.38189061,  0.33385122,  0.15580373,\n",
       "         0.81852161,  0.54046205,  0.28261137,  0.28143713, -0.07784431,\n",
       "         0.30646001,  0.28992856,  0.3350084 ,  0.34010711,  0.7271044 ,\n",
       "         0.27083515],\n",
       "       [10.        ,  0.27251546,  0.03956072,  1.        ,  0.96250149,\n",
       "         0.78788134,  0.45038166,  0.24382535,  0.22508239,  0.43749145,\n",
       "         0.01874963,  0.06874866,  0.1688624 ,  0.08772122,  0.25007323,\n",
       "         0.40085663,  0.3874365 ,  0.40692804,  0.33374307,  0.10643159,\n",
       "         0.90909622,  0.56007337,  0.23551438,  0.24722148, -0.07812347,\n",
       "         0.3202294 ,  0.28801057,  0.3885997 ,  0.36367631,  0.65503074,\n",
       "         0.25018368],\n",
       "       [11.        ,  0.29051161,  0.04519568,  1.        ,  0.94688308,\n",
       "         0.8518681 ,  0.54600525,  0.27598974,  0.30651164,  0.41913682,\n",
       "         0.03641785,  0.05388352,  0.2993529 ,  0.10195592,  0.23948232,\n",
       "         0.36977085,  0.37185362,  0.38741644,  0.35061473,  0.13770233,\n",
       "         0.81980334,  0.59086753,  0.29356809,  0.29414841, -0.08082528,\n",
       "         0.33280865,  0.31687906,  0.33145815,  0.35611673,  0.68901244,\n",
       "         0.29573377],\n",
       "       [11.        ,  0.27242975,  0.04899304,  1.        ,  0.94134973,\n",
       "         0.84112447,  0.52773945,  0.26832555,  0.27272462,  0.40338956,\n",
       "         0.05324605,  0.07691096,  0.27221077,  0.09484434,  0.21331262,\n",
       "         0.38600863,  0.37943689,  0.38766308,  0.33466645,  0.18340306,\n",
       "         0.84727108,  0.53884139,  0.31095502,  0.31262379, -0.07986907,\n",
       "         0.30164745,  0.29917936,  0.35364   ,  0.37849988,  0.71077417,\n",
       "         0.29478899],\n",
       "       [12.        ,  0.29577537,  0.05496146,  1.        ,  0.90903108,\n",
       "         0.7698254 ,  0.4579585 ,  0.28213464,  0.25616538,  0.43291878,\n",
       "         0.05487703,  0.08536427,  0.25029261,  0.13428235,  0.20731322,\n",
       "         0.40197163,  0.3890565 ,  0.37301554,  0.3374765 ,  0.14646572,\n",
       "         0.8719186 ,  0.55007367,  0.2815841 ,  0.290558  , -0.09451044,\n",
       "         0.31721531,  0.29520762,  0.35449199,  0.33552587,  0.78656813,\n",
       "         0.2627249 ],\n",
       "       [12.        ,  0.2956989 ,  0.05041235,  1.        ,  0.93100882,\n",
       "         0.79307652,  0.49092875,  0.30508007,  0.31446541,  0.44658517,\n",
       "         0.06289308,  0.08827465,  0.3084327 ,  0.14465409,  0.20125786,\n",
       "         0.41909568,  0.41348413,  0.4075135 ,  0.35025607,  0.1762129 ,\n",
       "         0.9006043 ,  0.55386654,  0.30812991,  0.30272074, -0.0754717 ,\n",
       "         0.31402427,  0.29029832,  0.33781255,  0.33781255,  0.79576963,\n",
       "         0.26803567],\n",
       "       [13.        ,  0.24839571,  0.06354064,  1.        ,  0.97930101,\n",
       "         0.84816896,  0.5486069 ,  0.24652713,  0.25186287,  0.43417065,\n",
       "         0.03157895,  0.07894737,  0.20027682,  0.12116699,  0.2321166 ,\n",
       "         0.38453557,  0.41079112,  0.40655459,  0.34180302,  0.17376394,\n",
       "         0.92134413,  0.44794685,  0.20850549,  0.17665122, -0.06052632,\n",
       "         0.24327932,  0.22955197,  0.43798203,  0.44463562,  0.83621655,\n",
       "         0.30399445],\n",
       "       [13.        ,  0.29165838,  0.06126405,  1.        ,  0.93284223,\n",
       "         0.75390956,  0.42986071,  0.19883765,  0.21017211,  0.37040058,\n",
       "         0.01983972,  0.07304564,  0.18623058,  0.10765578,  0.23155792,\n",
       "         0.44629248,  0.42558177,  0.40297866,  0.38412647,  0.16585926,\n",
       "         0.84986909,  0.59330444,  0.20536163,  0.17956208, -0.06613242,\n",
       "         0.33645107,  0.28888679,  0.42695121,  0.45328454,  0.7556689 ,\n",
       "         0.26906116],\n",
       "       [14.        ,  0.30142929,  0.05946234,  1.        ,  0.94869846,\n",
       "         0.85257068,  0.5192201 ,  0.29100837,  0.29297847,  0.42947836,\n",
       "         0.06410125,  0.102562  ,  0.25640499,  0.11556017,  0.22444592,\n",
       "         0.40885615,  0.41312142,  0.41099686,  0.35321335,  0.18589362,\n",
       "         0.90713514,  0.54277883,  0.25455709,  0.26973974, -0.0769215 ,\n",
       "         0.30948629,  0.28365894,  0.35948171,  0.37034769,  0.75200613,\n",
       "         0.24027393]])"
      ]
     },
     "execution_count": 50,
     "metadata": {},
     "output_type": "execute_result"
    }
   ],
   "source": [
    "npdata2 = encoded_data2.to_numpy()\n",
    "npdata2"
   ]
  },
  {
   "cell_type": "code",
   "execution_count": 52,
   "metadata": {},
   "outputs": [
    {
     "ename": "IndexError",
     "evalue": "index 31 is out of bounds for axis 0 with size 31",
     "output_type": "error",
     "traceback": [
      "\u001b[1;31m---------------------------------------------------------------------------\u001b[0m",
      "\u001b[1;31mIndexError\u001b[0m                                Traceback (most recent call last)",
      "\u001b[1;32m<ipython-input-52-f9fe6ec026c3>\u001b[0m in \u001b[0;36m<module>\u001b[1;34m\u001b[0m\n\u001b[0;32m      8\u001b[0m     \u001b[0mnumbers\u001b[0m\u001b[1;33m=\u001b[0m\u001b[0mnumbers\u001b[0m\u001b[1;33m[\u001b[0m\u001b[0mnumbers\u001b[0m\u001b[1;33m!=\u001b[0m\u001b[0mfirst_row\u001b[0m\u001b[1;33m]\u001b[0m\u001b[1;33m\u001b[0m\u001b[1;33m\u001b[0m\u001b[0m\n\u001b[0;32m      9\u001b[0m     \u001b[0mequal\u001b[0m \u001b[1;33m=\u001b[0m \u001b[0mfirst_row\u001b[0m\u001b[1;33m+\u001b[0m\u001b[1;36m1\u001b[0m\u001b[1;33m\u001b[0m\u001b[1;33m\u001b[0m\u001b[0m\n\u001b[1;32m---> 10\u001b[1;33m     \u001b[1;32mwhile\u001b[0m \u001b[1;33m(\u001b[0m\u001b[0mnpdata2\u001b[0m\u001b[1;33m[\u001b[0m\u001b[0mfirst_row\u001b[0m\u001b[1;33m]\u001b[0m\u001b[1;33m[\u001b[0m\u001b[1;33m-\u001b[0m\u001b[1;36m1\u001b[0m\u001b[1;33m]\u001b[0m \u001b[1;33m==\u001b[0m \u001b[0mnpdata2\u001b[0m\u001b[1;33m[\u001b[0m\u001b[0mequal\u001b[0m\u001b[1;33m]\u001b[0m\u001b[1;33m[\u001b[0m\u001b[1;33m-\u001b[0m\u001b[1;36m1\u001b[0m\u001b[1;33m]\u001b[0m\u001b[1;33m)\u001b[0m \u001b[1;32mand\u001b[0m \u001b[1;33m(\u001b[0m\u001b[0mequal\u001b[0m \u001b[1;33m<\u001b[0m \u001b[0mfirst_row\u001b[0m\u001b[1;33m+\u001b[0m\u001b[0mequals\u001b[0m\u001b[1;33m)\u001b[0m\u001b[1;33m:\u001b[0m\u001b[1;33m\u001b[0m\u001b[1;33m\u001b[0m\u001b[0m\n\u001b[0m\u001b[0;32m     11\u001b[0m         \u001b[0mnumbers\u001b[0m \u001b[1;33m=\u001b[0m \u001b[0mnp\u001b[0m\u001b[1;33m.\u001b[0m\u001b[0mappend\u001b[0m\u001b[1;33m(\u001b[0m\u001b[0mnumbers\u001b[0m\u001b[1;33m,\u001b[0m \u001b[0mequal\u001b[0m\u001b[1;33m)\u001b[0m\u001b[1;33m\u001b[0m\u001b[1;33m\u001b[0m\u001b[0m\n\u001b[0;32m     12\u001b[0m         \u001b[0mequal\u001b[0m\u001b[1;33m+=\u001b[0m\u001b[1;36m1\u001b[0m\u001b[1;33m\u001b[0m\u001b[1;33m\u001b[0m\u001b[0m\n",
      "\u001b[1;31mIndexError\u001b[0m: index 31 is out of bounds for axis 0 with size 31"
     ]
    }
   ],
   "source": [
    "different = 2\n",
    "equals = 5\n",
    "shape = (npdata2.shape[0]*(different+1), npdata2.shape[1])\n",
    "npdf = np.zeros(shape)\n",
    "i = 0\n",
    "for first_row in (range(0, npdata2.shape[0])):\n",
    "    numbers = np.array(random.sample(range(0,npdata2.shape[0]),different))\n",
    "    numbers=numbers[numbers!=first_row]\n",
    "    equal = first_row+1\n",
    "    while (npdata2[first_row][-1] == npdata2[equal][-1]) and (equal < first_row+equals):\n",
    "        numbers = np.append(numbers, equal)\n",
    "        equal+=1\n",
    "    for second_row in numbers:\n",
    "        npdf[i] = np.absolute(npdata2[first_row] - npdata2[second_row])\n",
    "        npdf[i][30] = int(npdf[i][30] == 0) #1 se corresponder a uma mesma pessoa\n",
    "        i += 1\n",
    "print(i)"
   ]
  },
  {
   "cell_type": "code",
   "execution_count": null,
   "metadata": {},
   "outputs": [],
   "source": [
    "shape = (npdata2.shape[0]*(different+1), npdata2.shape[1])\n",
    "npdf = np.zeros(shape)\n",
    "i = 0\n",
    "for first_row in (range(0, npdata2.shape[0])):\n",
    "    for second_row in range(first_row, npdata2.shape[0]):\n",
    "        npdf[i] = np.absolute(npdata2[first_row] - npdata2[second_row])\n",
    "        npdf[i][30] = int(npdf[i][30] == 0) #1 se corresponder a uma mesma pessoa\n",
    "        i += 1\n",
    "print(i)"
   ]
  },
  {
   "cell_type": "code",
   "execution_count": 53,
   "metadata": {},
   "outputs": [],
   "source": [
    "df = pd.DataFrame(npdf, columns=cols)"
   ]
  },
  {
   "cell_type": "code",
   "execution_count": 54,
   "metadata": {},
   "outputs": [],
   "source": [
    "test_y = df.Same\n",
    "test_x = df.drop(['Same'], axis=1)"
   ]
  },
  {
   "cell_type": "code",
   "execution_count": 55,
   "metadata": {},
   "outputs": [
    {
     "data": {
      "text/plain": [
       "0.8709677419354839"
      ]
     },
     "execution_count": 55,
     "metadata": {},
     "output_type": "execute_result"
    }
   ],
   "source": [
    "clf.score(test_x, test_y)"
   ]
  },
  {
   "cell_type": "code",
   "execution_count": null,
   "metadata": {},
   "outputs": [],
   "source": []
  }
 ],
 "metadata": {
  "kernelspec": {
   "display_name": "Python 3",
   "language": "python",
   "name": "python3"
  },
  "language_info": {
   "codemirror_mode": {
    "name": "ipython",
    "version": 3
   },
   "file_extension": ".py",
   "mimetype": "text/x-python",
   "name": "python",
   "nbconvert_exporter": "python",
   "pygments_lexer": "ipython3",
   "version": "3.6.8"
  }
 },
 "nbformat": 4,
 "nbformat_minor": 4
}
